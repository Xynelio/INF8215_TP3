{
 "cells": [
  {
   "cell_type": "code",
   "execution_count": 3,
   "metadata": {
    "id": "63t4-NgqZ57f"
   },
   "outputs": [],
   "source": [
    "# Upgrade dependencies\n",
    "! pip install -q pandas\n",
    "! pip install -q scikit-learn\n",
    "! pip install -q nltk\n",
    "! pip install -q matplotlib\n",
    "! pip install -q numpy\n",
    "! pip install -q torch\n",
    "! pip install -q boto3"
   ]
  },
  {
   "cell_type": "code",
   "execution_count": 2,
   "metadata": {
    "id": "c0vfyUVRaVYk"
   },
   "outputs": [],
   "source": [
    "# import the datasets\n",
    "#import boto3\n",
    "import os\n",
    "from os import path\n",
    "import pandas as pd\n",
    "%matplotlib inline\n",
    "import matplotlib.pyplot as plt\n",
    "import numpy as np                    \n",
    "import re, string\n",
    "import nltk\n",
    "from nltk.stem import SnowballStemmer\n",
    "from sklearn.model_selection import train_test_split\n",
    "from sklearn.impute import SimpleImputer\n",
    "from sklearn.preprocessing import OneHotEncoder, MinMaxScaler\n",
    "from sklearn.feature_extraction.text import CountVectorizer\n",
    "from sklearn.pipeline import Pipeline\n",
    "from sklearn.compose import ColumnTransformer\n",
    "from sklearn.utils import shuffle\n",
    "import torch\n",
    "from torch import nn"
   ]
  },
  {
   "cell_type": "code",
   "execution_count": 3,
   "metadata": {
    "id": "_O0zbDUDaghp"
   },
   "outputs": [],
   "source": [
    "import warnings\n",
    "warnings.filterwarnings(\"ignore\")\n",
    "  \n",
    "df = pd.read_csv('./data/train.csv', sep=';')"
   ]
  },
  {
   "cell_type": "code",
   "execution_count": 4,
   "metadata": {
    "colab": {
     "base_uri": "https://localhost:8080/",
     "height": 206
    },
    "id": "Xi8B_GUlaWiK",
    "outputId": "410ade95-43b0-4370-bb08-42f6a7f2486f"
   },
   "outputs": [
    {
     "data": {
      "text/html": [
       "<div>\n",
       "<style scoped>\n",
       "    .dataframe tbody tr th:only-of-type {\n",
       "        vertical-align: middle;\n",
       "    }\n",
       "\n",
       "    .dataframe tbody tr th {\n",
       "        vertical-align: top;\n",
       "    }\n",
       "\n",
       "    .dataframe thead th {\n",
       "        text-align: right;\n",
       "    }\n",
       "</style>\n",
       "<table border=\"1\" class=\"dataframe\">\n",
       "  <thead>\n",
       "    <tr style=\"text-align: right;\">\n",
       "      <th></th>\n",
       "      <th>id</th>\n",
       "      <th>color</th>\n",
       "      <th>fixed acidity</th>\n",
       "      <th>volatile acidity</th>\n",
       "      <th>citric acid</th>\n",
       "      <th>residual sugar</th>\n",
       "      <th>chlorides</th>\n",
       "      <th>free sulfur dioxide</th>\n",
       "      <th>total sulfur dioxide</th>\n",
       "      <th>density</th>\n",
       "      <th>pH</th>\n",
       "      <th>sulphates</th>\n",
       "      <th>alcohol</th>\n",
       "      <th>quality</th>\n",
       "    </tr>\n",
       "  </thead>\n",
       "  <tbody>\n",
       "    <tr>\n",
       "      <th>0</th>\n",
       "      <td>0</td>\n",
       "      <td>white</td>\n",
       "      <td>6.4</td>\n",
       "      <td>0.13</td>\n",
       "      <td>0.47</td>\n",
       "      <td>1.6</td>\n",
       "      <td>0.092</td>\n",
       "      <td>40.0</td>\n",
       "      <td>158.0</td>\n",
       "      <td>0.99280</td>\n",
       "      <td>3.21</td>\n",
       "      <td>0.36</td>\n",
       "      <td>9.8</td>\n",
       "      <td>6</td>\n",
       "    </tr>\n",
       "    <tr>\n",
       "      <th>1</th>\n",
       "      <td>1</td>\n",
       "      <td>white</td>\n",
       "      <td>6.2</td>\n",
       "      <td>0.33</td>\n",
       "      <td>0.14</td>\n",
       "      <td>4.8</td>\n",
       "      <td>0.052</td>\n",
       "      <td>27.0</td>\n",
       "      <td>128.0</td>\n",
       "      <td>0.99475</td>\n",
       "      <td>3.21</td>\n",
       "      <td>0.48</td>\n",
       "      <td>9.4</td>\n",
       "      <td>5</td>\n",
       "    </tr>\n",
       "    <tr>\n",
       "      <th>2</th>\n",
       "      <td>2</td>\n",
       "      <td>white</td>\n",
       "      <td>6.3</td>\n",
       "      <td>0.32</td>\n",
       "      <td>0.32</td>\n",
       "      <td>1.5</td>\n",
       "      <td>0.030</td>\n",
       "      <td>24.0</td>\n",
       "      <td>101.0</td>\n",
       "      <td>0.98923</td>\n",
       "      <td>3.21</td>\n",
       "      <td>0.42</td>\n",
       "      <td>13.0</td>\n",
       "      <td>5</td>\n",
       "    </tr>\n",
       "    <tr>\n",
       "      <th>3</th>\n",
       "      <td>3</td>\n",
       "      <td>white</td>\n",
       "      <td>6.6</td>\n",
       "      <td>0.16</td>\n",
       "      <td>0.34</td>\n",
       "      <td>1.1</td>\n",
       "      <td>0.037</td>\n",
       "      <td>41.0</td>\n",
       "      <td>115.0</td>\n",
       "      <td>0.98990</td>\n",
       "      <td>3.01</td>\n",
       "      <td>0.68</td>\n",
       "      <td>12.0</td>\n",
       "      <td>6</td>\n",
       "    </tr>\n",
       "    <tr>\n",
       "      <th>4</th>\n",
       "      <td>4</td>\n",
       "      <td>white</td>\n",
       "      <td>6.3</td>\n",
       "      <td>0.26</td>\n",
       "      <td>0.42</td>\n",
       "      <td>7.1</td>\n",
       "      <td>0.045</td>\n",
       "      <td>62.0</td>\n",
       "      <td>209.0</td>\n",
       "      <td>0.99544</td>\n",
       "      <td>3.20</td>\n",
       "      <td>0.53</td>\n",
       "      <td>9.5</td>\n",
       "      <td>6</td>\n",
       "    </tr>\n",
       "  </tbody>\n",
       "</table>\n",
       "</div>"
      ],
      "text/plain": [
       "   id  color  fixed acidity  volatile acidity  citric acid  residual sugar  \\\n",
       "0   0  white            6.4              0.13         0.47             1.6   \n",
       "1   1  white            6.2              0.33         0.14             4.8   \n",
       "2   2  white            6.3              0.32         0.32             1.5   \n",
       "3   3  white            6.6              0.16         0.34             1.1   \n",
       "4   4  white            6.3              0.26         0.42             7.1   \n",
       "\n",
       "   chlorides  free sulfur dioxide  total sulfur dioxide  density    pH  \\\n",
       "0      0.092                 40.0                 158.0  0.99280  3.21   \n",
       "1      0.052                 27.0                 128.0  0.99475  3.21   \n",
       "2      0.030                 24.0                 101.0  0.98923  3.21   \n",
       "3      0.037                 41.0                 115.0  0.98990  3.01   \n",
       "4      0.045                 62.0                 209.0  0.99544  3.20   \n",
       "\n",
       "   sulphates  alcohol  quality  \n",
       "0       0.36      9.8        6  \n",
       "1       0.48      9.4        5  \n",
       "2       0.42     13.0        5  \n",
       "3       0.68     12.0        6  \n",
       "4       0.53      9.5        6  "
      ]
     },
     "execution_count": 4,
     "metadata": {},
     "output_type": "execute_result"
    }
   ],
   "source": [
    "# Print the first five rows\n",
    "# NaN means missing data\n",
    "df.head()"
   ]
  },
  {
   "cell_type": "code",
   "execution_count": 5,
   "metadata": {
    "colab": {
     "base_uri": "https://localhost:8080/"
    },
    "id": "frNcaXJ4alKP",
    "outputId": "be34805d-5a17-4174-c9a9-ba2572c919ca"
   },
   "outputs": [
    {
     "name": "stdout",
     "output_type": "stream",
     "text": [
      "The shape of the dataset is: (4547, 14)\n"
     ]
    }
   ],
   "source": [
    "print('The shape of the dataset is:', df.shape)"
   ]
  },
  {
   "cell_type": "code",
   "execution_count": 6,
   "metadata": {
    "colab": {
     "base_uri": "https://localhost:8080/"
    },
    "id": "sqGQgWMUao6h",
    "outputId": "f395c3a7-3e71-4f40-9035-57e5ad3cf36e"
   },
   "outputs": [
    {
     "name": "stdout",
     "output_type": "stream",
     "text": [
      "<class 'pandas.core.frame.DataFrame'>\n",
      "RangeIndex: 4547 entries, 0 to 4546\n",
      "Data columns (total 14 columns):\n",
      " #   Column                Non-Null Count  Dtype  \n",
      "---  ------                --------------  -----  \n",
      " 0   id                    4547 non-null   int64  \n",
      " 1   color                 4547 non-null   object \n",
      " 2   fixed acidity         4547 non-null   float64\n",
      " 3   volatile acidity      4547 non-null   float64\n",
      " 4   citric acid           4547 non-null   float64\n",
      " 5   residual sugar        4547 non-null   float64\n",
      " 6   chlorides             4547 non-null   float64\n",
      " 7   free sulfur dioxide   4547 non-null   float64\n",
      " 8   total sulfur dioxide  4547 non-null   float64\n",
      " 9   density               4547 non-null   float64\n",
      " 10  pH                    4547 non-null   float64\n",
      " 11  sulphates             4547 non-null   float64\n",
      " 12  alcohol               4547 non-null   float64\n",
      " 13  quality               4547 non-null   int64  \n",
      "dtypes: float64(11), int64(2), object(1)\n",
      "memory usage: 497.5+ KB\n"
     ]
    }
   ],
   "source": [
    "# Let's see the data types and non-null values for each column\n",
    "df.info()"
   ]
  },
  {
   "cell_type": "code",
   "execution_count": 7,
   "metadata": {
    "colab": {
     "base_uri": "https://localhost:8080/",
     "height": 318
    },
    "id": "esEvdO9_arI6",
    "outputId": "a1ed9c5f-f41a-44ef-caea-ebd215a8eb05"
   },
   "outputs": [
    {
     "data": {
      "text/html": [
       "<div>\n",
       "<style scoped>\n",
       "    .dataframe tbody tr th:only-of-type {\n",
       "        vertical-align: middle;\n",
       "    }\n",
       "\n",
       "    .dataframe tbody tr th {\n",
       "        vertical-align: top;\n",
       "    }\n",
       "\n",
       "    .dataframe thead th {\n",
       "        text-align: right;\n",
       "    }\n",
       "</style>\n",
       "<table border=\"1\" class=\"dataframe\">\n",
       "  <thead>\n",
       "    <tr style=\"text-align: right;\">\n",
       "      <th></th>\n",
       "      <th>id</th>\n",
       "      <th>fixed acidity</th>\n",
       "      <th>volatile acidity</th>\n",
       "      <th>citric acid</th>\n",
       "      <th>residual sugar</th>\n",
       "      <th>chlorides</th>\n",
       "      <th>free sulfur dioxide</th>\n",
       "      <th>total sulfur dioxide</th>\n",
       "      <th>density</th>\n",
       "      <th>pH</th>\n",
       "      <th>sulphates</th>\n",
       "      <th>alcohol</th>\n",
       "      <th>quality</th>\n",
       "    </tr>\n",
       "  </thead>\n",
       "  <tbody>\n",
       "    <tr>\n",
       "      <th>count</th>\n",
       "      <td>4547.000000</td>\n",
       "      <td>4547.000000</td>\n",
       "      <td>4547.000000</td>\n",
       "      <td>4547.000000</td>\n",
       "      <td>4547.000000</td>\n",
       "      <td>4547.000000</td>\n",
       "      <td>4547.000000</td>\n",
       "      <td>4547.000000</td>\n",
       "      <td>4547.000000</td>\n",
       "      <td>4547.000000</td>\n",
       "      <td>4547.000000</td>\n",
       "      <td>4547.000000</td>\n",
       "      <td>4547.000000</td>\n",
       "    </tr>\n",
       "    <tr>\n",
       "      <th>mean</th>\n",
       "      <td>2273.000000</td>\n",
       "      <td>7.218628</td>\n",
       "      <td>0.340790</td>\n",
       "      <td>0.316796</td>\n",
       "      <td>5.376490</td>\n",
       "      <td>0.056391</td>\n",
       "      <td>30.399824</td>\n",
       "      <td>115.451177</td>\n",
       "      <td>0.994682</td>\n",
       "      <td>3.218865</td>\n",
       "      <td>0.530550</td>\n",
       "      <td>10.494042</td>\n",
       "      <td>5.810864</td>\n",
       "    </tr>\n",
       "    <tr>\n",
       "      <th>std</th>\n",
       "      <td>1312.750167</td>\n",
       "      <td>1.307541</td>\n",
       "      <td>0.165061</td>\n",
       "      <td>0.145354</td>\n",
       "      <td>4.656574</td>\n",
       "      <td>0.035808</td>\n",
       "      <td>17.846286</td>\n",
       "      <td>56.651854</td>\n",
       "      <td>0.002930</td>\n",
       "      <td>0.161170</td>\n",
       "      <td>0.150886</td>\n",
       "      <td>1.193348</td>\n",
       "      <td>0.868795</td>\n",
       "    </tr>\n",
       "    <tr>\n",
       "      <th>min</th>\n",
       "      <td>0.000000</td>\n",
       "      <td>3.900000</td>\n",
       "      <td>0.080000</td>\n",
       "      <td>0.000000</td>\n",
       "      <td>0.700000</td>\n",
       "      <td>0.009000</td>\n",
       "      <td>1.000000</td>\n",
       "      <td>6.000000</td>\n",
       "      <td>0.987110</td>\n",
       "      <td>2.720000</td>\n",
       "      <td>0.230000</td>\n",
       "      <td>8.000000</td>\n",
       "      <td>3.000000</td>\n",
       "    </tr>\n",
       "    <tr>\n",
       "      <th>25%</th>\n",
       "      <td>1136.500000</td>\n",
       "      <td>6.400000</td>\n",
       "      <td>0.230000</td>\n",
       "      <td>0.240000</td>\n",
       "      <td>1.800000</td>\n",
       "      <td>0.038000</td>\n",
       "      <td>17.000000</td>\n",
       "      <td>77.000000</td>\n",
       "      <td>0.992350</td>\n",
       "      <td>3.110000</td>\n",
       "      <td>0.430000</td>\n",
       "      <td>9.500000</td>\n",
       "      <td>5.000000</td>\n",
       "    </tr>\n",
       "    <tr>\n",
       "      <th>50%</th>\n",
       "      <td>2273.000000</td>\n",
       "      <td>7.000000</td>\n",
       "      <td>0.290000</td>\n",
       "      <td>0.310000</td>\n",
       "      <td>2.900000</td>\n",
       "      <td>0.047000</td>\n",
       "      <td>29.000000</td>\n",
       "      <td>118.000000</td>\n",
       "      <td>0.994900</td>\n",
       "      <td>3.210000</td>\n",
       "      <td>0.500000</td>\n",
       "      <td>10.300000</td>\n",
       "      <td>6.000000</td>\n",
       "    </tr>\n",
       "    <tr>\n",
       "      <th>75%</th>\n",
       "      <td>3409.500000</td>\n",
       "      <td>7.700000</td>\n",
       "      <td>0.402500</td>\n",
       "      <td>0.390000</td>\n",
       "      <td>8.000000</td>\n",
       "      <td>0.066000</td>\n",
       "      <td>41.000000</td>\n",
       "      <td>155.000000</td>\n",
       "      <td>0.996920</td>\n",
       "      <td>3.320000</td>\n",
       "      <td>0.600000</td>\n",
       "      <td>11.300000</td>\n",
       "      <td>6.000000</td>\n",
       "    </tr>\n",
       "    <tr>\n",
       "      <th>max</th>\n",
       "      <td>4546.000000</td>\n",
       "      <td>15.900000</td>\n",
       "      <td>1.580000</td>\n",
       "      <td>1.230000</td>\n",
       "      <td>31.600000</td>\n",
       "      <td>0.611000</td>\n",
       "      <td>289.000000</td>\n",
       "      <td>440.000000</td>\n",
       "      <td>1.010300</td>\n",
       "      <td>4.010000</td>\n",
       "      <td>2.000000</td>\n",
       "      <td>14.900000</td>\n",
       "      <td>9.000000</td>\n",
       "    </tr>\n",
       "  </tbody>\n",
       "</table>\n",
       "</div>"
      ],
      "text/plain": [
       "                id  fixed acidity  volatile acidity  citric acid  \\\n",
       "count  4547.000000    4547.000000       4547.000000  4547.000000   \n",
       "mean   2273.000000       7.218628          0.340790     0.316796   \n",
       "std    1312.750167       1.307541          0.165061     0.145354   \n",
       "min       0.000000       3.900000          0.080000     0.000000   \n",
       "25%    1136.500000       6.400000          0.230000     0.240000   \n",
       "50%    2273.000000       7.000000          0.290000     0.310000   \n",
       "75%    3409.500000       7.700000          0.402500     0.390000   \n",
       "max    4546.000000      15.900000          1.580000     1.230000   \n",
       "\n",
       "       residual sugar    chlorides  free sulfur dioxide  total sulfur dioxide  \\\n",
       "count     4547.000000  4547.000000          4547.000000           4547.000000   \n",
       "mean         5.376490     0.056391            30.399824            115.451177   \n",
       "std          4.656574     0.035808            17.846286             56.651854   \n",
       "min          0.700000     0.009000             1.000000              6.000000   \n",
       "25%          1.800000     0.038000            17.000000             77.000000   \n",
       "50%          2.900000     0.047000            29.000000            118.000000   \n",
       "75%          8.000000     0.066000            41.000000            155.000000   \n",
       "max         31.600000     0.611000           289.000000            440.000000   \n",
       "\n",
       "           density           pH    sulphates      alcohol      quality  \n",
       "count  4547.000000  4547.000000  4547.000000  4547.000000  4547.000000  \n",
       "mean      0.994682     3.218865     0.530550    10.494042     5.810864  \n",
       "std       0.002930     0.161170     0.150886     1.193348     0.868795  \n",
       "min       0.987110     2.720000     0.230000     8.000000     3.000000  \n",
       "25%       0.992350     3.110000     0.430000     9.500000     5.000000  \n",
       "50%       0.994900     3.210000     0.500000    10.300000     6.000000  \n",
       "75%       0.996920     3.320000     0.600000    11.300000     6.000000  \n",
       "max       1.010300     4.010000     2.000000    14.900000     9.000000  "
      ]
     },
     "execution_count": 7,
     "metadata": {},
     "output_type": "execute_result"
    }
   ],
   "source": [
    "# This prints basic statistics for numerical columns\n",
    "df.describe()"
   ]
  },
  {
   "cell_type": "code",
   "execution_count": 8,
   "metadata": {
    "colab": {
     "base_uri": "https://localhost:8080/",
     "height": 262
    },
    "id": "tdO5yqHkashh",
    "outputId": "395b7d25-615b-4670-cbf7-79276d08052f"
   },
   "outputs": [
    {
     "data": {
      "image/png": "[encoded data removed]",
      "text/plain": [
       "<Figure size 432x288 with 1 Axes>"
      ]
     },
     "metadata": {
      "needs_background": "light"
     },
     "output_type": "display_data"
    }
   ],
   "source": [
    "df['quality'].value_counts().plot.bar()\n",
    "plt.show()"
   ]
  },
  {
   "cell_type": "code",
   "execution_count": 9,
   "metadata": {
    "id": "IbYRKzDbFPQX"
   },
   "outputs": [],
   "source": [
    "def utils_recognize_type(dtf, col, max_cat=20):\n",
    "    if (dtf[col].dtype == \"O\") | (dtf[col].nunique() < max_cat):\n",
    "        return \"cat\"\n",
    "    else:\n",
    "        return \"num\""
   ]
  },
  {
   "cell_type": "code",
   "execution_count": 38,
   "metadata": {
    "colab": {
     "base_uri": "https://localhost:8080/",
     "height": 382
    },
    "id": "iOkYbCFPFY65",
    "outputId": "a44980e0-0da0-4804-90d5-da4c7487c472"
   },
   "outputs": [
    {
     "data": {
      "image/png": "[encoded data removed]",
      "text/plain": [
       "<Figure size 432x288 with 1 Axes>"
      ]
     },
     "metadata": {
      "needs_background": "light"
     },
     "output_type": "display_data"
    },
    {
     "name": "stdout",
     "output_type": "stream",
     "text": [
      "\u001b[0;37;40m Categerocial  \u001b[1;30;43m Numeric  \u001b[1;30;47m NaN \n"
     ]
    }
   ],
   "source": [
    "import seaborn as sns\n",
    "\n",
    "dtf = df\n",
    "dic_cols = {col:utils_recognize_type(dtf, col, max_cat=10) for col in dtf.columns}\n",
    "heatmap = dtf.isnull()\n",
    "for k,v in dic_cols.items():\n",
    " if v == \"num\":\n",
    "   heatmap[k] = heatmap[k].apply(lambda x: 0.5 if x is False else 1)\n",
    " else:\n",
    "   heatmap[k] = heatmap[k].apply(lambda x: 0 if x is False else 1)\n",
    "sns.heatmap(heatmap, cbar=False).set_title('Dataset Overview')\n",
    "plt.show()\n",
    "print(\"\\033[0;37;40m Categerocial \", \"\\033[1;30;43m Numeric \", \"\\033[1;30;47m NaN \")"
   ]
  },
  {
   "cell_type": "code",
   "execution_count": 99,
   "metadata": {
    "id": "yqfg2YEfGBiS"
   },
   "outputs": [],
   "source": [
    "dtf = dtf.set_index(\"id\")"
   ]
  },
  {
   "cell_type": "code",
   "execution_count": 100,
   "metadata": {
    "colab": {
     "base_uri": "https://localhost:8080/",
     "height": 238
    },
    "id": "zoTJSqZYGFzU",
    "outputId": "5672e179-b5f7-498e-866a-15a58ea08626"
   },
   "outputs": [
    {
     "data": {
      "text/html": [
       "<div>\n",
       "<style scoped>\n",
       "    .dataframe tbody tr th:only-of-type {\n",
       "        vertical-align: middle;\n",
       "    }\n",
       "\n",
       "    .dataframe tbody tr th {\n",
       "        vertical-align: top;\n",
       "    }\n",
       "\n",
       "    .dataframe thead th {\n",
       "        text-align: right;\n",
       "    }\n",
       "</style>\n",
       "<table border=\"1\" class=\"dataframe\">\n",
       "  <thead>\n",
       "    <tr style=\"text-align: right;\">\n",
       "      <th></th>\n",
       "      <th>color</th>\n",
       "      <th>fixed acidity</th>\n",
       "      <th>volatile acidity</th>\n",
       "      <th>citric acid</th>\n",
       "      <th>residual sugar</th>\n",
       "      <th>chlorides</th>\n",
       "      <th>free sulfur dioxide</th>\n",
       "      <th>total sulfur dioxide</th>\n",
       "      <th>density</th>\n",
       "      <th>pH</th>\n",
       "      <th>sulphates</th>\n",
       "      <th>alcohol</th>\n",
       "      <th>quality</th>\n",
       "    </tr>\n",
       "    <tr>\n",
       "      <th>id</th>\n",
       "      <th></th>\n",
       "      <th></th>\n",
       "      <th></th>\n",
       "      <th></th>\n",
       "      <th></th>\n",
       "      <th></th>\n",
       "      <th></th>\n",
       "      <th></th>\n",
       "      <th></th>\n",
       "      <th></th>\n",
       "      <th></th>\n",
       "      <th></th>\n",
       "      <th></th>\n",
       "    </tr>\n",
       "  </thead>\n",
       "  <tbody>\n",
       "    <tr>\n",
       "      <th>0</th>\n",
       "      <td>white</td>\n",
       "      <td>6.4</td>\n",
       "      <td>0.13</td>\n",
       "      <td>0.47</td>\n",
       "      <td>1.6</td>\n",
       "      <td>0.092</td>\n",
       "      <td>40.0</td>\n",
       "      <td>158.0</td>\n",
       "      <td>0.99280</td>\n",
       "      <td>3.21</td>\n",
       "      <td>0.36</td>\n",
       "      <td>9.8</td>\n",
       "      <td>6</td>\n",
       "    </tr>\n",
       "    <tr>\n",
       "      <th>1</th>\n",
       "      <td>white</td>\n",
       "      <td>6.2</td>\n",
       "      <td>0.33</td>\n",
       "      <td>0.14</td>\n",
       "      <td>4.8</td>\n",
       "      <td>0.052</td>\n",
       "      <td>27.0</td>\n",
       "      <td>128.0</td>\n",
       "      <td>0.99475</td>\n",
       "      <td>3.21</td>\n",
       "      <td>0.48</td>\n",
       "      <td>9.4</td>\n",
       "      <td>5</td>\n",
       "    </tr>\n",
       "    <tr>\n",
       "      <th>2</th>\n",
       "      <td>white</td>\n",
       "      <td>6.3</td>\n",
       "      <td>0.32</td>\n",
       "      <td>0.32</td>\n",
       "      <td>1.5</td>\n",
       "      <td>0.030</td>\n",
       "      <td>24.0</td>\n",
       "      <td>101.0</td>\n",
       "      <td>0.98923</td>\n",
       "      <td>3.21</td>\n",
       "      <td>0.42</td>\n",
       "      <td>13.0</td>\n",
       "      <td>5</td>\n",
       "    </tr>\n",
       "    <tr>\n",
       "      <th>3</th>\n",
       "      <td>white</td>\n",
       "      <td>6.6</td>\n",
       "      <td>0.16</td>\n",
       "      <td>0.34</td>\n",
       "      <td>1.1</td>\n",
       "      <td>0.037</td>\n",
       "      <td>41.0</td>\n",
       "      <td>115.0</td>\n",
       "      <td>0.98990</td>\n",
       "      <td>3.01</td>\n",
       "      <td>0.68</td>\n",
       "      <td>12.0</td>\n",
       "      <td>6</td>\n",
       "    </tr>\n",
       "    <tr>\n",
       "      <th>4</th>\n",
       "      <td>white</td>\n",
       "      <td>6.3</td>\n",
       "      <td>0.26</td>\n",
       "      <td>0.42</td>\n",
       "      <td>7.1</td>\n",
       "      <td>0.045</td>\n",
       "      <td>62.0</td>\n",
       "      <td>209.0</td>\n",
       "      <td>0.99544</td>\n",
       "      <td>3.20</td>\n",
       "      <td>0.53</td>\n",
       "      <td>9.5</td>\n",
       "      <td>6</td>\n",
       "    </tr>\n",
       "  </tbody>\n",
       "</table>\n",
       "</div>"
      ],
      "text/plain": [
       "    color  fixed acidity  volatile acidity  citric acid  residual sugar  \\\n",
       "id                                                                        \n",
       "0   white            6.4              0.13         0.47             1.6   \n",
       "1   white            6.2              0.33         0.14             4.8   \n",
       "2   white            6.3              0.32         0.32             1.5   \n",
       "3   white            6.6              0.16         0.34             1.1   \n",
       "4   white            6.3              0.26         0.42             7.1   \n",
       "\n",
       "    chlorides  free sulfur dioxide  total sulfur dioxide  density    pH  \\\n",
       "id                                                                        \n",
       "0       0.092                 40.0                 158.0  0.99280  3.21   \n",
       "1       0.052                 27.0                 128.0  0.99475  3.21   \n",
       "2       0.030                 24.0                 101.0  0.98923  3.21   \n",
       "3       0.037                 41.0                 115.0  0.98990  3.01   \n",
       "4       0.045                 62.0                 209.0  0.99544  3.20   \n",
       "\n",
       "    sulphates  alcohol  quality  \n",
       "id                               \n",
       "0        0.36      9.8        6  \n",
       "1        0.48      9.4        5  \n",
       "2        0.42     13.0        5  \n",
       "3        0.68     12.0        6  \n",
       "4        0.53      9.5        6  "
      ]
     },
     "execution_count": 100,
     "metadata": {},
     "output_type": "execute_result"
    }
   ],
   "source": [
    "dtf.head()"
   ]
  },
  {
   "cell_type": "code",
   "execution_count": 101,
   "metadata": {
    "colab": {
     "base_uri": "https://localhost:8080/",
     "height": 294
    },
    "id": "nT8oTLvUGVPd",
    "outputId": "c173f9ac-20d1-4670-cf64-b8f7698b9344"
   },
   "outputs": [
    {
     "data": {
      "image/png": "[encoded data removed]",
      "text/plain": [
       "<Figure size 432x288 with 1 Axes>"
      ]
     },
     "metadata": {
      "needs_background": "light"
     },
     "output_type": "display_data"
    }
   ],
   "source": [
    "y = \"quality\"\n",
    "ax = dtf[y].value_counts().sort_values().plot(kind=\"barh\")\n",
    "totals= []\n",
    "for i in ax.patches:\n",
    "    totals.append(i.get_width())\n",
    "total = sum(totals)\n",
    "for i in ax.patches:\n",
    "     ax.text(i.get_width()+.3, i.get_y()+.20, \n",
    "     str(round((i.get_width()/total)*100, 2))+'%', \n",
    "     fontsize=10, color='black')\n",
    "ax.grid(axis=\"x\")\n",
    "plt.suptitle(y, fontsize=20)\n",
    "plt.show()"
   ]
  },
  {
   "cell_type": "code",
   "execution_count": 102,
   "metadata": {
    "id": "bcuWQmAsHbBr"
   },
   "outputs": [],
   "source": [
    "## for data\n",
    "import pandas as pd\n",
    "import numpy as np## for plotting\n",
    "import matplotlib.pyplot as plt\n",
    "import seaborn as sns## for statistical tests\n",
    "import scipy\n",
    "import statsmodels.formula.api as smf\n",
    "import statsmodels.api as sm## for machine learning\n",
    "from sklearn import model_selection, preprocessing, feature_selection, ensemble, linear_model, metrics, decomposition## for explainer\n",
    "#from lime import lime_tabular"
   ]
  },
  {
   "cell_type": "code",
   "execution_count": 103,
   "metadata": {
    "colab": {
     "base_uri": "https://localhost:8080/",
     "height": 308
    },
    "id": "GtEDvMw9IxSZ",
    "outputId": "8315e105-9e89-4cd2-b104-5d0c37138974"
   },
   "outputs": [
    {
     "data": {
      "image/png": "[encoded data removed]",
      "text/plain": [
       "<Figure size 432x288 with 2 Axes>"
      ]
     },
     "metadata": {
      "needs_background": "light"
     },
     "output_type": "display_data"
    }
   ],
   "source": [
    "x = \"free sulfur dioxide\"\n",
    "fig, ax = plt.subplots(nrows=1, ncols=2,  sharex=False, sharey=False)\n",
    "fig.suptitle(x, fontsize=20)### distribution\n",
    "ax[0].title.set_text('distribution')\n",
    "variable = dtf[x].fillna(dtf[x].mean())\n",
    "breaks = np.quantile(variable, q=np.linspace(0, 1, 11))\n",
    "variable = variable[ (variable > breaks[0]) & (variable < \n",
    "                    breaks[10]) ]\n",
    "sns.distplot(variable, hist=True, kde=True, kde_kws={\"shade\": True}, ax=ax[0])\n",
    "des = dtf[x].describe()\n",
    "ax[0].axvline(des[\"25%\"], ls='--')\n",
    "ax[0].axvline(des[\"mean\"], ls='--')\n",
    "ax[0].axvline(des[\"75%\"], ls='--')\n",
    "ax[0].grid(True)\n",
    "des = round(des, 2).apply(lambda x: str(x))\n",
    "box = '\\n'.join((\"min: \"+des[\"min\"], \"25%: \"+des[\"25%\"], \"mean: \"+des[\"mean\"], \"75%: \"+des[\"75%\"], \"max: \"+des[\"max\"]))\n",
    "ax[0].text(0.95, 0.95, box, transform=ax[0].transAxes, fontsize=10, va='top', ha=\"right\", bbox=dict(boxstyle='round', facecolor='white', alpha=1))\n",
    "### boxplot \n",
    "ax[1].title.set_text('outliers (log scale)')\n",
    "tmp_dtf = pd.DataFrame(dtf[x])\n",
    "tmp_dtf[x] = (tmp_dtf[x])\n",
    "tmp_dtf.boxplot(column=x, ax=ax[1])\n",
    "plt.show()"
   ]
  },
  {
   "cell_type": "code",
   "execution_count": 104,
   "metadata": {
    "colab": {
     "base_uri": "https://localhost:8080/",
     "height": 347
    },
    "id": "jm9OV9_4JcQH",
    "outputId": "a7e083e0-21f1-4717-ebb6-8374da5a7c2d"
   },
   "outputs": [
    {
     "data": {
      "text/plain": [
       "Text(0.5, 1.0, 'free sulfur dioxide bins')"
      ]
     },
     "execution_count": 104,
     "metadata": {},
     "output_type": "execute_result"
    },
    {
     "data": {
      "image/png": "[encoded data removed]",
      "text/plain": [
       "<Figure size 432x288 with 1 Axes>"
      ]
     },
     "metadata": {
      "needs_background": "light"
     },
     "output_type": "display_data"
    }
   ],
   "source": [
    "ax = dtf[\"free sulfur dioxide\"].value_counts(bins=10, sort=False).plot(kind=\"bar\")\n",
    "plt.title(\"free sulfur dioxide bins\")"
   ]
  },
  {
   "cell_type": "code",
   "execution_count": 105,
   "metadata": {
    "id": "9VLeHLViKmRR"
   },
   "outputs": [],
   "source": [
    "dropIndexes = dtf[dtf[\"free sulfur dioxide\"] > 83.5].index\n",
    "dtf.drop(dropIndexes , inplace=True)"
   ]
  },
  {
   "cell_type": "code",
   "execution_count": 106,
   "metadata": {
    "colab": {
     "base_uri": "https://localhost:8080/",
     "height": 347
    },
    "id": "KiasSaF-KwYx",
    "outputId": "db664570-7d59-4ff7-ac7d-d4726dd81edc"
   },
   "outputs": [
    {
     "data": {
      "text/plain": [
       "Text(0.5, 1.0, 'free sulfur dioxide bins after outlier removal')"
      ]
     },
     "execution_count": 106,
     "metadata": {},
     "output_type": "execute_result"
    },
    {
     "data": {
      "image/png": "[encoded data removed]",
      "text/plain": [
       "<Figure size 432x288 with 1 Axes>"
      ]
     },
     "metadata": {
      "needs_background": "light"
     },
     "output_type": "display_data"
    }
   ],
   "source": [
    "ax = dtf[\"free sulfur dioxide\"].value_counts(bins=10, sort=False).plot(kind=\"bar\")\n",
    "plt.title(\"free sulfur dioxide bins after outlier removal\")"
   ]
  },
  {
   "cell_type": "code",
   "execution_count": 107,
   "metadata": {
    "colab": {
     "base_uri": "https://localhost:8080/",
     "height": 467
    },
    "id": "-7I04t20LMUD",
    "outputId": "ccd2f51a-8de5-4719-ad0c-327546430262"
   },
   "outputs": [
    {
     "data": {
      "text/plain": [
       "Text(0.5, 1.0, 'free sulfur dioxide bins')"
      ]
     },
     "execution_count": 107,
     "metadata": {},
     "output_type": "execute_result"
    },
    {
     "data": {
      "image/png": "[encoded data removed]",
      "text/plain": [
       "<Figure size 432x288 with 1 Axes>"
      ]
     },
     "metadata": {
      "needs_background": "light"
     },
     "output_type": "display_data"
    }
   ],
   "source": [
    "ax = dtf[\"chlorides\"].value_counts(bins=10, sort=False).plot(kind=\"bar\")\n",
    "plt.title(\"free sulfur dioxide bins\")"
   ]
  },
  {
   "cell_type": "code",
   "execution_count": 108,
   "metadata": {
    "colab": {
     "base_uri": "https://localhost:8080/",
     "height": 378
    },
    "id": "keHM8ohaLf7P",
    "outputId": "9a3a51cb-7379-4e13-a5b2-e7d0df70085d"
   },
   "outputs": [
    {
     "data": {
      "text/plain": [
       "Text(0.5, 1.0, 'free sulfur dioxide bins')"
      ]
     },
     "execution_count": 108,
     "metadata": {},
     "output_type": "execute_result"
    },
    {
     "data": {
      "image/png": "[encoded data removed]",
      "text/plain": [
       "<Figure size 432x288 with 1 Axes>"
      ]
     },
     "metadata": {
      "needs_background": "light"
     },
     "output_type": "display_data"
    }
   ],
   "source": [
    "dropIndexes = dtf[dtf[\"chlorides\"] > 0.31].index\n",
    "dtf.drop(dropIndexes , inplace=True)\n",
    "ax = dtf[\"chlorides\"].value_counts(bins=10, sort=False).plot(kind=\"bar\")\n",
    "plt.title(\"free sulfur dioxide bins\")"
   ]
  },
  {
   "cell_type": "code",
   "execution_count": 109,
   "metadata": {
    "colab": {
     "base_uri": "https://localhost:8080/"
    },
    "id": "Au30U_n3Hc69",
    "outputId": "9bc4a4d6-f442-427b-a758-c78cccda5935"
   },
   "outputs": [
    {
     "ename": "KeyError",
     "evalue": "\"['quality'] not found in axis\"",
     "output_type": "error",
     "traceback": [
      "\u001b[0;31m---------------------------------------------------------------------------\u001b[0m",
      "\u001b[0;31mKeyError\u001b[0m                                  Traceback (most recent call last)",
      "\u001b[0;32m/tmp/ipykernel_6227/3582976206.py\u001b[0m in \u001b[0;36m<module>\u001b[0;34m\u001b[0m\n\u001b[1;32m      3\u001b[0m \u001b[0mdtf_train\u001b[0m \u001b[0;34m=\u001b[0m \u001b[0mdtf\u001b[0m\u001b[0;34m\u001b[0m\u001b[0;34m\u001b[0m\u001b[0m\n\u001b[1;32m      4\u001b[0m     \u001b[0;31m## print info\u001b[0m\u001b[0;34m\u001b[0m\u001b[0;34m\u001b[0m\u001b[0;34m\u001b[0m\u001b[0m\n\u001b[0;32m----> 5\u001b[0;31m \u001b[0mprint\u001b[0m\u001b[0;34m(\u001b[0m\u001b[0;34m\"X_train shape:\"\u001b[0m\u001b[0;34m,\u001b[0m \u001b[0mdtf_train\u001b[0m\u001b[0;34m.\u001b[0m\u001b[0mdrop\u001b[0m\u001b[0;34m(\u001b[0m\u001b[0;34m\"quality\"\u001b[0m\u001b[0;34m,\u001b[0m\u001b[0maxis\u001b[0m\u001b[0;34m=\u001b[0m\u001b[0;36m1\u001b[0m\u001b[0;34m)\u001b[0m\u001b[0;34m.\u001b[0m\u001b[0mshape\u001b[0m\u001b[0;34m,\u001b[0m \u001b[0;34m\"| X_test shape:\"\u001b[0m\u001b[0;34m,\u001b[0m \u001b[0mdtf_test\u001b[0m\u001b[0;34m.\u001b[0m\u001b[0mdrop\u001b[0m\u001b[0;34m(\u001b[0m\u001b[0;34m\"quality\"\u001b[0m\u001b[0;34m,\u001b[0m\u001b[0maxis\u001b[0m\u001b[0;34m=\u001b[0m\u001b[0;36m1\u001b[0m\u001b[0;34m)\u001b[0m\u001b[0;34m.\u001b[0m\u001b[0mshape\u001b[0m\u001b[0;34m)\u001b[0m\u001b[0;34m\u001b[0m\u001b[0;34m\u001b[0m\u001b[0m\n\u001b[0m\u001b[1;32m      6\u001b[0m \u001b[0mprint\u001b[0m\u001b[0;34m(\u001b[0m\u001b[0;34m\"y_train mean:\"\u001b[0m\u001b[0;34m,\u001b[0m \u001b[0mround\u001b[0m\u001b[0;34m(\u001b[0m\u001b[0mnp\u001b[0m\u001b[0;34m.\u001b[0m\u001b[0mmean\u001b[0m\u001b[0;34m(\u001b[0m\u001b[0mdtf_train\u001b[0m\u001b[0;34m[\u001b[0m\u001b[0;34m\"quality\"\u001b[0m\u001b[0;34m]\u001b[0m\u001b[0;34m)\u001b[0m\u001b[0;34m,\u001b[0m\u001b[0;36m10\u001b[0m\u001b[0;34m)\u001b[0m\u001b[0;34m,\u001b[0m \u001b[0;34m\"| y_test mean:\"\u001b[0m\u001b[0;34m,\u001b[0m \u001b[0mround\u001b[0m\u001b[0;34m(\u001b[0m\u001b[0mnp\u001b[0m\u001b[0;34m.\u001b[0m\u001b[0mmean\u001b[0m\u001b[0;34m(\u001b[0m\u001b[0mdtf_test\u001b[0m\u001b[0;34m[\u001b[0m\u001b[0;34m\"quality\"\u001b[0m\u001b[0;34m]\u001b[0m\u001b[0;34m)\u001b[0m\u001b[0;34m,\u001b[0m\u001b[0;36m10\u001b[0m\u001b[0;34m)\u001b[0m\u001b[0;34m)\u001b[0m\u001b[0;34m\u001b[0m\u001b[0;34m\u001b[0m\u001b[0m\n\u001b[1;32m      7\u001b[0m \u001b[0mprint\u001b[0m\u001b[0;34m(\u001b[0m\u001b[0mdtf_train\u001b[0m\u001b[0;34m.\u001b[0m\u001b[0mshape\u001b[0m\u001b[0;34m[\u001b[0m\u001b[0;36m1\u001b[0m\u001b[0;34m]\u001b[0m\u001b[0;34m,\u001b[0m \u001b[0;34m\"features:\"\u001b[0m\u001b[0;34m,\u001b[0m \u001b[0mdtf_train\u001b[0m\u001b[0;34m.\u001b[0m\u001b[0mdrop\u001b[0m\u001b[0;34m(\u001b[0m\u001b[0;34m\"quality\"\u001b[0m\u001b[0;34m,\u001b[0m\u001b[0maxis\u001b[0m\u001b[0;34m=\u001b[0m\u001b[0;36m1\u001b[0m\u001b[0;34m)\u001b[0m\u001b[0;34m.\u001b[0m\u001b[0mcolumns\u001b[0m\u001b[0;34m.\u001b[0m\u001b[0mto_list\u001b[0m\u001b[0;34m(\u001b[0m\u001b[0;34m)\u001b[0m\u001b[0;34m)\u001b[0m\u001b[0;34m\u001b[0m\u001b[0;34m\u001b[0m\u001b[0m\n",
      "\u001b[0;32m~/Documents/polymtl/inf8215/tp/TP3/venv38/lib/python3.8/site-packages/pandas/util/_decorators.py\u001b[0m in \u001b[0;36mwrapper\u001b[0;34m(*args, **kwargs)\u001b[0m\n\u001b[1;32m    309\u001b[0m                     \u001b[0mstacklevel\u001b[0m\u001b[0;34m=\u001b[0m\u001b[0mstacklevel\u001b[0m\u001b[0;34m,\u001b[0m\u001b[0;34m\u001b[0m\u001b[0;34m\u001b[0m\u001b[0m\n\u001b[1;32m    310\u001b[0m                 )\n\u001b[0;32m--> 311\u001b[0;31m             \u001b[0;32mreturn\u001b[0m \u001b[0mfunc\u001b[0m\u001b[0;34m(\u001b[0m\u001b[0;34m*\u001b[0m\u001b[0margs\u001b[0m\u001b[0;34m,\u001b[0m \u001b[0;34m**\u001b[0m\u001b[0mkwargs\u001b[0m\u001b[0;34m)\u001b[0m\u001b[0;34m\u001b[0m\u001b[0;34m\u001b[0m\u001b[0m\n\u001b[0m\u001b[1;32m    312\u001b[0m \u001b[0;34m\u001b[0m\u001b[0m\n\u001b[1;32m    313\u001b[0m         \u001b[0;32mreturn\u001b[0m \u001b[0mwrapper\u001b[0m\u001b[0;34m\u001b[0m\u001b[0;34m\u001b[0m\u001b[0m\n",
      "\u001b[0;32m~/Documents/polymtl/inf8215/tp/TP3/venv38/lib/python3.8/site-packages/pandas/core/frame.py\u001b[0m in \u001b[0;36mdrop\u001b[0;34m(self, labels, axis, index, columns, level, inplace, errors)\u001b[0m\n\u001b[1;32m   4904\u001b[0m                 \u001b[0mweight\u001b[0m  \u001b[0;36m1.0\u001b[0m     \u001b[0;36m0.8\u001b[0m\u001b[0;34m\u001b[0m\u001b[0;34m\u001b[0m\u001b[0m\n\u001b[1;32m   4905\u001b[0m         \"\"\"\n\u001b[0;32m-> 4906\u001b[0;31m         return super().drop(\n\u001b[0m\u001b[1;32m   4907\u001b[0m             \u001b[0mlabels\u001b[0m\u001b[0;34m=\u001b[0m\u001b[0mlabels\u001b[0m\u001b[0;34m,\u001b[0m\u001b[0;34m\u001b[0m\u001b[0;34m\u001b[0m\u001b[0m\n\u001b[1;32m   4908\u001b[0m             \u001b[0maxis\u001b[0m\u001b[0;34m=\u001b[0m\u001b[0maxis\u001b[0m\u001b[0;34m,\u001b[0m\u001b[0;34m\u001b[0m\u001b[0;34m\u001b[0m\u001b[0m\n",
      "\u001b[0;32m~/Documents/polymtl/inf8215/tp/TP3/venv38/lib/python3.8/site-packages/pandas/core/generic.py\u001b[0m in \u001b[0;36mdrop\u001b[0;34m(self, labels, axis, index, columns, level, inplace, errors)\u001b[0m\n\u001b[1;32m   4148\u001b[0m         \u001b[0;32mfor\u001b[0m \u001b[0maxis\u001b[0m\u001b[0;34m,\u001b[0m \u001b[0mlabels\u001b[0m \u001b[0;32min\u001b[0m \u001b[0maxes\u001b[0m\u001b[0;34m.\u001b[0m\u001b[0mitems\u001b[0m\u001b[0;34m(\u001b[0m\u001b[0;34m)\u001b[0m\u001b[0;34m:\u001b[0m\u001b[0;34m\u001b[0m\u001b[0;34m\u001b[0m\u001b[0m\n\u001b[1;32m   4149\u001b[0m             \u001b[0;32mif\u001b[0m \u001b[0mlabels\u001b[0m \u001b[0;32mis\u001b[0m \u001b[0;32mnot\u001b[0m \u001b[0;32mNone\u001b[0m\u001b[0;34m:\u001b[0m\u001b[0;34m\u001b[0m\u001b[0;34m\u001b[0m\u001b[0m\n\u001b[0;32m-> 4150\u001b[0;31m                 \u001b[0mobj\u001b[0m \u001b[0;34m=\u001b[0m \u001b[0mobj\u001b[0m\u001b[0;34m.\u001b[0m\u001b[0m_drop_axis\u001b[0m\u001b[0;34m(\u001b[0m\u001b[0mlabels\u001b[0m\u001b[0;34m,\u001b[0m \u001b[0maxis\u001b[0m\u001b[0;34m,\u001b[0m \u001b[0mlevel\u001b[0m\u001b[0;34m=\u001b[0m\u001b[0mlevel\u001b[0m\u001b[0;34m,\u001b[0m \u001b[0merrors\u001b[0m\u001b[0;34m=\u001b[0m\u001b[0merrors\u001b[0m\u001b[0;34m)\u001b[0m\u001b[0;34m\u001b[0m\u001b[0;34m\u001b[0m\u001b[0m\n\u001b[0m\u001b[1;32m   4151\u001b[0m \u001b[0;34m\u001b[0m\u001b[0m\n\u001b[1;32m   4152\u001b[0m         \u001b[0;32mif\u001b[0m \u001b[0minplace\u001b[0m\u001b[0;34m:\u001b[0m\u001b[0;34m\u001b[0m\u001b[0;34m\u001b[0m\u001b[0m\n",
      "\u001b[0;32m~/Documents/polymtl/inf8215/tp/TP3/venv38/lib/python3.8/site-packages/pandas/core/generic.py\u001b[0m in \u001b[0;36m_drop_axis\u001b[0;34m(self, labels, axis, level, errors)\u001b[0m\n\u001b[1;32m   4183\u001b[0m                 \u001b[0mnew_axis\u001b[0m \u001b[0;34m=\u001b[0m \u001b[0maxis\u001b[0m\u001b[0;34m.\u001b[0m\u001b[0mdrop\u001b[0m\u001b[0;34m(\u001b[0m\u001b[0mlabels\u001b[0m\u001b[0;34m,\u001b[0m \u001b[0mlevel\u001b[0m\u001b[0;34m=\u001b[0m\u001b[0mlevel\u001b[0m\u001b[0;34m,\u001b[0m \u001b[0merrors\u001b[0m\u001b[0;34m=\u001b[0m\u001b[0merrors\u001b[0m\u001b[0;34m)\u001b[0m\u001b[0;34m\u001b[0m\u001b[0;34m\u001b[0m\u001b[0m\n\u001b[1;32m   4184\u001b[0m             \u001b[0;32melse\u001b[0m\u001b[0;34m:\u001b[0m\u001b[0;34m\u001b[0m\u001b[0;34m\u001b[0m\u001b[0m\n\u001b[0;32m-> 4185\u001b[0;31m                 \u001b[0mnew_axis\u001b[0m \u001b[0;34m=\u001b[0m \u001b[0maxis\u001b[0m\u001b[0;34m.\u001b[0m\u001b[0mdrop\u001b[0m\u001b[0;34m(\u001b[0m\u001b[0mlabels\u001b[0m\u001b[0;34m,\u001b[0m \u001b[0merrors\u001b[0m\u001b[0;34m=\u001b[0m\u001b[0merrors\u001b[0m\u001b[0;34m)\u001b[0m\u001b[0;34m\u001b[0m\u001b[0;34m\u001b[0m\u001b[0m\n\u001b[0m\u001b[1;32m   4186\u001b[0m             \u001b[0mresult\u001b[0m \u001b[0;34m=\u001b[0m \u001b[0mself\u001b[0m\u001b[0;34m.\u001b[0m\u001b[0mreindex\u001b[0m\u001b[0;34m(\u001b[0m\u001b[0;34m**\u001b[0m\u001b[0;34m{\u001b[0m\u001b[0maxis_name\u001b[0m\u001b[0;34m:\u001b[0m \u001b[0mnew_axis\u001b[0m\u001b[0;34m}\u001b[0m\u001b[0;34m)\u001b[0m\u001b[0;34m\u001b[0m\u001b[0;34m\u001b[0m\u001b[0m\n\u001b[1;32m   4187\u001b[0m \u001b[0;34m\u001b[0m\u001b[0m\n",
      "\u001b[0;32m~/Documents/polymtl/inf8215/tp/TP3/venv38/lib/python3.8/site-packages/pandas/core/indexes/base.py\u001b[0m in \u001b[0;36mdrop\u001b[0;34m(self, labels, errors)\u001b[0m\n\u001b[1;32m   6015\u001b[0m         \u001b[0;32mif\u001b[0m \u001b[0mmask\u001b[0m\u001b[0;34m.\u001b[0m\u001b[0many\u001b[0m\u001b[0;34m(\u001b[0m\u001b[0;34m)\u001b[0m\u001b[0;34m:\u001b[0m\u001b[0;34m\u001b[0m\u001b[0;34m\u001b[0m\u001b[0m\n\u001b[1;32m   6016\u001b[0m             \u001b[0;32mif\u001b[0m \u001b[0merrors\u001b[0m \u001b[0;34m!=\u001b[0m \u001b[0;34m\"ignore\"\u001b[0m\u001b[0;34m:\u001b[0m\u001b[0;34m\u001b[0m\u001b[0;34m\u001b[0m\u001b[0m\n\u001b[0;32m-> 6017\u001b[0;31m                 \u001b[0;32mraise\u001b[0m \u001b[0mKeyError\u001b[0m\u001b[0;34m(\u001b[0m\u001b[0;34mf\"{labels[mask]} not found in axis\"\u001b[0m\u001b[0;34m)\u001b[0m\u001b[0;34m\u001b[0m\u001b[0;34m\u001b[0m\u001b[0m\n\u001b[0m\u001b[1;32m   6018\u001b[0m             \u001b[0mindexer\u001b[0m \u001b[0;34m=\u001b[0m \u001b[0mindexer\u001b[0m\u001b[0;34m[\u001b[0m\u001b[0;34m~\u001b[0m\u001b[0mmask\u001b[0m\u001b[0;34m]\u001b[0m\u001b[0;34m\u001b[0m\u001b[0;34m\u001b[0m\u001b[0m\n\u001b[1;32m   6019\u001b[0m         \u001b[0;32mreturn\u001b[0m \u001b[0mself\u001b[0m\u001b[0;34m.\u001b[0m\u001b[0mdelete\u001b[0m\u001b[0;34m(\u001b[0m\u001b[0mindexer\u001b[0m\u001b[0;34m)\u001b[0m\u001b[0;34m\u001b[0m\u001b[0;34m\u001b[0m\u001b[0m\n",
      "\u001b[0;31mKeyError\u001b[0m: \"['quality'] not found in axis\""
     ]
    }
   ],
   "source": [
    "## split data\n",
    "#dtf_train, dtf_test = model_selection.train_test_split(dtf, test_size=0.3)\n",
    "dtf_train = dtf\n",
    "    ## print info\n",
    "print(\"X_train shape:\", dtf_train.drop(\"quality\",axis=1).shape, \"| X_test shape:\", dtf_test.drop(\"quality\",axis=1).shape)\n",
    "print(\"y_train mean:\", round(np.mean(dtf_train[\"quality\"]),10), \"| y_test mean:\", round(np.mean(dtf_test[\"quality\"]),10))\n",
    "print(dtf_train.shape[1], \"features:\", dtf_train.drop(\"quality\",axis=1).columns.to_list())"
   ]
  },
  {
   "cell_type": "code",
   "execution_count": 110,
   "metadata": {
    "colab": {
     "base_uri": "https://localhost:8080/"
    },
    "id": "phOevYcUIDOI",
    "outputId": "789c160d-806a-4ba7-d573-f3be5dc83749"
   },
   "outputs": [
    {
     "name": "stdout",
     "output_type": "stream",
     "text": [
      "    color  color_white\n",
      "id                    \n",
      "0   white            1\n",
      "1   white            1\n",
      "2   white            1\n",
      "3   white            1\n",
      "4   white            1\n"
     ]
    }
   ],
   "source": [
    "## create dummy\n",
    "dummy = pd.get_dummies(dtf_train[\"color\"], \n",
    "                       prefix=\"color\",drop_first=True)\n",
    "dtf_train= pd.concat([dtf_train, dummy], axis=1)\n",
    "print( dtf_train.filter(like=\"color\", axis=1).head() )"
   ]
  },
  {
   "cell_type": "code",
   "execution_count": 111,
   "metadata": {
    "id": "jXu0APELIJF8"
   },
   "outputs": [],
   "source": [
    "## drop the original categorical column\n",
    "dtf_train = dtf_train.drop(\"color\", axis=1)"
   ]
  },
  {
   "cell_type": "code",
   "execution_count": 112,
   "metadata": {
    "colab": {
     "base_uri": "https://localhost:8080/",
     "height": 238
    },
    "id": "GlleV5U2MzA3",
    "outputId": "0509e3d0-ff77-4457-b158-7edba4c007d8"
   },
   "outputs": [
    {
     "data": {
      "text/html": [
       "<div>\n",
       "<style scoped>\n",
       "    .dataframe tbody tr th:only-of-type {\n",
       "        vertical-align: middle;\n",
       "    }\n",
       "\n",
       "    .dataframe tbody tr th {\n",
       "        vertical-align: top;\n",
       "    }\n",
       "\n",
       "    .dataframe thead th {\n",
       "        text-align: right;\n",
       "    }\n",
       "</style>\n",
       "<table border=\"1\" class=\"dataframe\">\n",
       "  <thead>\n",
       "    <tr style=\"text-align: right;\">\n",
       "      <th></th>\n",
       "      <th>fixed acidity</th>\n",
       "      <th>volatile acidity</th>\n",
       "      <th>citric acid</th>\n",
       "      <th>residual sugar</th>\n",
       "      <th>chlorides</th>\n",
       "      <th>free sulfur dioxide</th>\n",
       "      <th>total sulfur dioxide</th>\n",
       "      <th>density</th>\n",
       "      <th>pH</th>\n",
       "      <th>sulphates</th>\n",
       "      <th>alcohol</th>\n",
       "      <th>quality</th>\n",
       "      <th>color_white</th>\n",
       "    </tr>\n",
       "    <tr>\n",
       "      <th>id</th>\n",
       "      <th></th>\n",
       "      <th></th>\n",
       "      <th></th>\n",
       "      <th></th>\n",
       "      <th></th>\n",
       "      <th></th>\n",
       "      <th></th>\n",
       "      <th></th>\n",
       "      <th></th>\n",
       "      <th></th>\n",
       "      <th></th>\n",
       "      <th></th>\n",
       "      <th></th>\n",
       "    </tr>\n",
       "  </thead>\n",
       "  <tbody>\n",
       "    <tr>\n",
       "      <th>0</th>\n",
       "      <td>6.4</td>\n",
       "      <td>0.13</td>\n",
       "      <td>0.47</td>\n",
       "      <td>1.6</td>\n",
       "      <td>0.092</td>\n",
       "      <td>40.0</td>\n",
       "      <td>158.0</td>\n",
       "      <td>0.99280</td>\n",
       "      <td>3.21</td>\n",
       "      <td>0.36</td>\n",
       "      <td>9.8</td>\n",
       "      <td>6</td>\n",
       "      <td>1</td>\n",
       "    </tr>\n",
       "    <tr>\n",
       "      <th>1</th>\n",
       "      <td>6.2</td>\n",
       "      <td>0.33</td>\n",
       "      <td>0.14</td>\n",
       "      <td>4.8</td>\n",
       "      <td>0.052</td>\n",
       "      <td>27.0</td>\n",
       "      <td>128.0</td>\n",
       "      <td>0.99475</td>\n",
       "      <td>3.21</td>\n",
       "      <td>0.48</td>\n",
       "      <td>9.4</td>\n",
       "      <td>5</td>\n",
       "      <td>1</td>\n",
       "    </tr>\n",
       "    <tr>\n",
       "      <th>2</th>\n",
       "      <td>6.3</td>\n",
       "      <td>0.32</td>\n",
       "      <td>0.32</td>\n",
       "      <td>1.5</td>\n",
       "      <td>0.030</td>\n",
       "      <td>24.0</td>\n",
       "      <td>101.0</td>\n",
       "      <td>0.98923</td>\n",
       "      <td>3.21</td>\n",
       "      <td>0.42</td>\n",
       "      <td>13.0</td>\n",
       "      <td>5</td>\n",
       "      <td>1</td>\n",
       "    </tr>\n",
       "    <tr>\n",
       "      <th>3</th>\n",
       "      <td>6.6</td>\n",
       "      <td>0.16</td>\n",
       "      <td>0.34</td>\n",
       "      <td>1.1</td>\n",
       "      <td>0.037</td>\n",
       "      <td>41.0</td>\n",
       "      <td>115.0</td>\n",
       "      <td>0.98990</td>\n",
       "      <td>3.01</td>\n",
       "      <td>0.68</td>\n",
       "      <td>12.0</td>\n",
       "      <td>6</td>\n",
       "      <td>1</td>\n",
       "    </tr>\n",
       "    <tr>\n",
       "      <th>4</th>\n",
       "      <td>6.3</td>\n",
       "      <td>0.26</td>\n",
       "      <td>0.42</td>\n",
       "      <td>7.1</td>\n",
       "      <td>0.045</td>\n",
       "      <td>62.0</td>\n",
       "      <td>209.0</td>\n",
       "      <td>0.99544</td>\n",
       "      <td>3.20</td>\n",
       "      <td>0.53</td>\n",
       "      <td>9.5</td>\n",
       "      <td>6</td>\n",
       "      <td>1</td>\n",
       "    </tr>\n",
       "  </tbody>\n",
       "</table>\n",
       "</div>"
      ],
      "text/plain": [
       "    fixed acidity  volatile acidity  citric acid  residual sugar  chlorides  \\\n",
       "id                                                                            \n",
       "0             6.4              0.13         0.47             1.6      0.092   \n",
       "1             6.2              0.33         0.14             4.8      0.052   \n",
       "2             6.3              0.32         0.32             1.5      0.030   \n",
       "3             6.6              0.16         0.34             1.1      0.037   \n",
       "4             6.3              0.26         0.42             7.1      0.045   \n",
       "\n",
       "    free sulfur dioxide  total sulfur dioxide  density    pH  sulphates  \\\n",
       "id                                                                        \n",
       "0                  40.0                 158.0  0.99280  3.21       0.36   \n",
       "1                  27.0                 128.0  0.99475  3.21       0.48   \n",
       "2                  24.0                 101.0  0.98923  3.21       0.42   \n",
       "3                  41.0                 115.0  0.98990  3.01       0.68   \n",
       "4                  62.0                 209.0  0.99544  3.20       0.53   \n",
       "\n",
       "    alcohol  quality  color_white  \n",
       "id                                 \n",
       "0       9.8        6            1  \n",
       "1       9.4        5            1  \n",
       "2      13.0        5            1  \n",
       "3      12.0        6            1  \n",
       "4       9.5        6            1  "
      ]
     },
     "execution_count": 112,
     "metadata": {},
     "output_type": "execute_result"
    }
   ],
   "source": [
    "dtf_train.head()"
   ]
  },
  {
   "cell_type": "code",
   "execution_count": 113,
   "metadata": {
    "colab": {
     "base_uri": "https://localhost:8080/",
     "height": 238
    },
    "id": "8J5JrMK3Lo4J",
    "outputId": "a6c9abae-518e-4163-9936-3900d851a15c"
   },
   "outputs": [
    {
     "data": {
      "text/html": [
       "<div>\n",
       "<style scoped>\n",
       "    .dataframe tbody tr th:only-of-type {\n",
       "        vertical-align: middle;\n",
       "    }\n",
       "\n",
       "    .dataframe tbody tr th {\n",
       "        vertical-align: top;\n",
       "    }\n",
       "\n",
       "    .dataframe thead th {\n",
       "        text-align: right;\n",
       "    }\n",
       "</style>\n",
       "<table border=\"1\" class=\"dataframe\">\n",
       "  <thead>\n",
       "    <tr style=\"text-align: right;\">\n",
       "      <th></th>\n",
       "      <th>fixed acidity</th>\n",
       "      <th>volatile acidity</th>\n",
       "      <th>citric acid</th>\n",
       "      <th>residual sugar</th>\n",
       "      <th>chlorides</th>\n",
       "      <th>free sulfur dioxide</th>\n",
       "      <th>total sulfur dioxide</th>\n",
       "      <th>density</th>\n",
       "      <th>pH</th>\n",
       "      <th>sulphates</th>\n",
       "      <th>alcohol</th>\n",
       "      <th>color_white</th>\n",
       "      <th>quality</th>\n",
       "    </tr>\n",
       "    <tr>\n",
       "      <th>id</th>\n",
       "      <th></th>\n",
       "      <th></th>\n",
       "      <th></th>\n",
       "      <th></th>\n",
       "      <th></th>\n",
       "      <th></th>\n",
       "      <th></th>\n",
       "      <th></th>\n",
       "      <th></th>\n",
       "      <th></th>\n",
       "      <th></th>\n",
       "      <th></th>\n",
       "      <th></th>\n",
       "    </tr>\n",
       "  </thead>\n",
       "  <tbody>\n",
       "    <tr>\n",
       "      <th>0</th>\n",
       "      <td>0.208333</td>\n",
       "      <td>0.033333</td>\n",
       "      <td>0.382114</td>\n",
       "      <td>0.029126</td>\n",
       "      <td>0.295374</td>\n",
       "      <td>0.475610</td>\n",
       "      <td>0.449704</td>\n",
       "      <td>0.245364</td>\n",
       "      <td>0.379845</td>\n",
       "      <td>0.074286</td>\n",
       "      <td>0.260870</td>\n",
       "      <td>1.0</td>\n",
       "      <td>6</td>\n",
       "    </tr>\n",
       "    <tr>\n",
       "      <th>1</th>\n",
       "      <td>0.191667</td>\n",
       "      <td>0.166667</td>\n",
       "      <td>0.113821</td>\n",
       "      <td>0.132686</td>\n",
       "      <td>0.153025</td>\n",
       "      <td>0.317073</td>\n",
       "      <td>0.360947</td>\n",
       "      <td>0.329452</td>\n",
       "      <td>0.379845</td>\n",
       "      <td>0.142857</td>\n",
       "      <td>0.202899</td>\n",
       "      <td>1.0</td>\n",
       "      <td>5</td>\n",
       "    </tr>\n",
       "    <tr>\n",
       "      <th>2</th>\n",
       "      <td>0.200000</td>\n",
       "      <td>0.160000</td>\n",
       "      <td>0.260163</td>\n",
       "      <td>0.025890</td>\n",
       "      <td>0.074733</td>\n",
       "      <td>0.280488</td>\n",
       "      <td>0.281065</td>\n",
       "      <td>0.091419</td>\n",
       "      <td>0.379845</td>\n",
       "      <td>0.108571</td>\n",
       "      <td>0.724638</td>\n",
       "      <td>1.0</td>\n",
       "      <td>5</td>\n",
       "    </tr>\n",
       "    <tr>\n",
       "      <th>3</th>\n",
       "      <td>0.225000</td>\n",
       "      <td>0.053333</td>\n",
       "      <td>0.276423</td>\n",
       "      <td>0.012945</td>\n",
       "      <td>0.099644</td>\n",
       "      <td>0.487805</td>\n",
       "      <td>0.322485</td>\n",
       "      <td>0.120310</td>\n",
       "      <td>0.224806</td>\n",
       "      <td>0.257143</td>\n",
       "      <td>0.579710</td>\n",
       "      <td>1.0</td>\n",
       "      <td>6</td>\n",
       "    </tr>\n",
       "    <tr>\n",
       "      <th>4</th>\n",
       "      <td>0.200000</td>\n",
       "      <td>0.120000</td>\n",
       "      <td>0.341463</td>\n",
       "      <td>0.207120</td>\n",
       "      <td>0.128114</td>\n",
       "      <td>0.743902</td>\n",
       "      <td>0.600592</td>\n",
       "      <td>0.359207</td>\n",
       "      <td>0.372093</td>\n",
       "      <td>0.171429</td>\n",
       "      <td>0.217391</td>\n",
       "      <td>1.0</td>\n",
       "      <td>6</td>\n",
       "    </tr>\n",
       "  </tbody>\n",
       "</table>\n",
       "</div>"
      ],
      "text/plain": [
       "    fixed acidity  volatile acidity  citric acid  residual sugar  chlorides  \\\n",
       "id                                                                            \n",
       "0        0.208333          0.033333     0.382114        0.029126   0.295374   \n",
       "1        0.191667          0.166667     0.113821        0.132686   0.153025   \n",
       "2        0.200000          0.160000     0.260163        0.025890   0.074733   \n",
       "3        0.225000          0.053333     0.276423        0.012945   0.099644   \n",
       "4        0.200000          0.120000     0.341463        0.207120   0.128114   \n",
       "\n",
       "    free sulfur dioxide  total sulfur dioxide   density        pH  sulphates  \\\n",
       "id                                                                             \n",
       "0              0.475610              0.449704  0.245364  0.379845   0.074286   \n",
       "1              0.317073              0.360947  0.329452  0.379845   0.142857   \n",
       "2              0.280488              0.281065  0.091419  0.379845   0.108571   \n",
       "3              0.487805              0.322485  0.120310  0.224806   0.257143   \n",
       "4              0.743902              0.600592  0.359207  0.372093   0.171429   \n",
       "\n",
       "     alcohol  color_white  quality  \n",
       "id                                  \n",
       "0   0.260870          1.0        6  \n",
       "1   0.202899          1.0        5  \n",
       "2   0.724638          1.0        5  \n",
       "3   0.579710          1.0        6  \n",
       "4   0.217391          1.0        6  "
      ]
     },
     "execution_count": 113,
     "metadata": {},
     "output_type": "execute_result"
    }
   ],
   "source": [
    "scaler = preprocessing.MinMaxScaler(feature_range=(0,1))\n",
    "X = scaler.fit_transform(dtf_train.drop(\"quality\", axis=1))\n",
    "dtf_scaled= pd.DataFrame(X, columns=dtf_train.drop(\"quality\", axis=1).columns, index=dtf_train.index)\n",
    "dtf_scaled[\"quality\"] = dtf_train[\"quality\"]\n",
    "dtf_scaled.head()"
   ]
  },
  {
   "cell_type": "code",
   "execution_count": 114,
   "metadata": {
    "colab": {
     "base_uri": "https://localhost:8080/",
     "height": 382
    },
    "id": "Nqy3Sd3CNCjc",
    "outputId": "57358520-0ed8-4e9a-8a36-c7090e3cb117"
   },
   "outputs": [
    {
     "data": {
      "text/plain": [
       "Text(0.5, 1.0, 'pearson correlation')"
      ]
     },
     "execution_count": 114,
     "metadata": {},
     "output_type": "execute_result"
    },
    {
     "data": {
      "image/png": "[encoded data removed]",
      "text/plain": [
       "<Figure size 432x288 with 2 Axes>"
      ]
     },
     "metadata": {
      "needs_background": "light"
     },
     "output_type": "display_data"
    }
   ],
   "source": [
    "corr_matrix = dtf.copy()\n",
    "for col in corr_matrix.columns:\n",
    "    if corr_matrix[col].dtype == \"O\":\n",
    "         corr_matrix[col] = corr_matrix[col].factorize(sort=True)[0]\n",
    "corr_matrix = corr_matrix.corr(method=\"pearson\")\n",
    "sns.heatmap(corr_matrix, vmin=-1., vmax=1., annot=True, fmt='.2f', cmap=\"YlGnBu\", cbar=True, linewidths=0.5)\n",
    "plt.title(\"pearson correlation\")"
   ]
  },
  {
   "cell_type": "code",
   "execution_count": 115,
   "metadata": {
    "colab": {
     "base_uri": "https://localhost:8080/",
     "height": 296
    },
    "id": "iPJdUgNNNv4W",
    "outputId": "9bcabbba-0785-44d9-8026-bd378261c54d"
   },
   "outputs": [
    {
     "data": {
      "text/plain": [
       "<AxesSubplot:xlabel='selection', ylabel='features'>"
      ]
     },
     "execution_count": 115,
     "metadata": {},
     "output_type": "execute_result"
    },
    {
     "data": {
      "image/png": "[encoded data removed]",
      "text/plain": [
       "<Figure size 432x288 with 1 Axes>"
      ]
     },
     "metadata": {
      "needs_background": "light"
     },
     "output_type": "display_data"
    }
   ],
   "source": [
    "X = dtf_train.drop(\"quality\", axis=1).values\n",
    "y = dtf_train[\"quality\"].values\n",
    "feature_names = dtf_train.drop(\"quality\", axis=1).columns## Anova\n",
    "selector = feature_selection.SelectKBest(score_func=  \n",
    "               feature_selection.f_classif, k=10).fit(X,y)\n",
    "anova_selected_features = feature_names[selector.get_support()]\n",
    "\n",
    "## Lasso regularization\n",
    "selector = feature_selection.SelectFromModel(estimator= \n",
    "              linear_model.LogisticRegression(C=1, penalty=\"l1\", \n",
    "              solver='liblinear'), max_features=10).fit(X,y)\n",
    "lasso_selected_features = feature_names[selector.get_support()]\n",
    " \n",
    "## Plot\n",
    "dtf_features = pd.DataFrame({\"features\":feature_names})\n",
    "dtf_features[\"anova\"] = dtf_features[\"features\"].apply(lambda x: \"anova\" if x in anova_selected_features else \"\")\n",
    "dtf_features[\"num1\"] = dtf_features[\"features\"].apply(lambda x: 1 if x in anova_selected_features else 0)\n",
    "dtf_features[\"lasso\"] = dtf_features[\"features\"].apply(lambda x: \"lasso\" if x in lasso_selected_features else \"\")\n",
    "dtf_features[\"num2\"] = dtf_features[\"features\"].apply(lambda x: 1 if x in lasso_selected_features else 0)\n",
    "dtf_features[\"method\"] = dtf_features[[\"anova\",\"lasso\"]].apply(lambda x: (x[0]+\" \"+x[1]).strip(), axis=1)\n",
    "dtf_features[\"selection\"] = dtf_features[\"num1\"] + dtf_features[\"num2\"]\n",
    "sns.barplot(y=\"features\", x=\"selection\", hue=\"method\", data=dtf_features.sort_values(\"selection\", ascending=False), dodge=False)"
   ]
  },
  {
   "cell_type": "code",
   "execution_count": 116,
   "metadata": {
    "colab": {
     "base_uri": "https://localhost:8080/",
     "height": 376
    },
    "id": "BS6z8_CWOBX5",
    "outputId": "3f5d9fc0-1cd4-43db-c68a-29d6d04795a0"
   },
   "outputs": [
    {
     "data": {
      "image/png": "[encoded data removed]",
      "text/plain": [
       "<Figure size 432x288 with 2 Axes>"
      ]
     },
     "metadata": {
      "needs_background": "light"
     },
     "output_type": "display_data"
    }
   ],
   "source": [
    "X = dtf_train.drop(\"quality\", axis=1).values\n",
    "y = dtf_train[\"quality\"].values\n",
    "feature_names = dtf_train.drop(\"quality\", axis=1).columns.tolist()## Importance\n",
    "model = ensemble.RandomForestClassifier(n_estimators=100,\n",
    "                      criterion=\"entropy\", random_state=0)\n",
    "model.fit(X,y)\n",
    "importances = model.feature_importances_## Put in a pandas dtf\n",
    "dtf_importances = pd.DataFrame({\"IMPORTANCE\":importances, \n",
    "            \"VARIABLE\":feature_names}).sort_values(\"IMPORTANCE\", \n",
    "            ascending=False)\n",
    "dtf_importances['cumsum'] = dtf_importances['IMPORTANCE'].cumsum(axis=0)\n",
    "dtf_importances = dtf_importances.set_index(\"VARIABLE\")\n",
    "    \n",
    "## Plot\n",
    "fig, ax = plt.subplots(nrows=1, ncols=2, sharex=False, sharey=False)\n",
    "fig.suptitle(\"Features Importance\", fontsize=20)\n",
    "ax[0].title.set_text('variables')\n",
    "dtf_importances[[\"IMPORTANCE\"]].sort_values(by=\"IMPORTANCE\").plot(\n",
    "                kind=\"barh\", legend=False, ax=ax[0]).grid(axis=\"x\")\n",
    "ax[0].set(ylabel=\"\")\n",
    "ax[1].title.set_text('cumulative')\n",
    "dtf_importances[[\"cumsum\"]].plot(kind=\"line\", linewidth=4, \n",
    "                                 legend=False, ax=ax[1])\n",
    "ax[1].set(xlabel=\"\", xticks=np.arange(len(dtf_importances)), \n",
    "          xticklabels=dtf_importances.index)\n",
    "plt.xticks(rotation=70)\n",
    "plt.grid(axis='both')\n",
    "plt.show()"
   ]
  },
  {
   "cell_type": "code",
   "execution_count": 117,
   "metadata": {
    "id": "tMoULDg-OWjs"
   },
   "outputs": [],
   "source": [
    "#X_names = [\"alcohol\", \"density\", \"volatile acidity\", \"free sulfur dioxide\", \"sulphates\", \"chlorides\", \"residual sugar\", \"citric acid\", \"fixed acidity\", \"pH\"]\n",
    "dtf_train, dtf_test = model_selection.train_test_split(dtf_scaled, \n",
    "                      test_size=0.3)\n",
    "X_names = [\"fixed acidity\", \"volatile acidity\", \"citric acid\", \"residual sugar\", \"chlorides\", \"free sulfur dioxide\", \"total sulfur dioxide\", \"density\", \"pH\", \"sulphates\", \"alcohol\", \"color_white\"]\n",
    "\n",
    "X_train = dtf_train[X_names].values\n",
    "y_train = dtf_train[\"quality\"].values\n",
    "X_test = dtf_test[X_names].values\n",
    "y_test = dtf_test[\"quality\"].values"
   ]
  },
  {
   "cell_type": "code",
   "execution_count": 118,
   "metadata": {},
   "outputs": [
    {
     "data": {
      "text/plain": [
       "RandomForestClassifier(criterion='entropy', n_estimators=300, n_jobs=-1,\n",
       "                       random_state=0)"
      ]
     },
     "execution_count": 118,
     "metadata": {},
     "output_type": "execute_result"
    }
   ],
   "source": [
    "from sklearn.ensemble import RandomForestClassifier\n",
    "from sklearn.datasets import make_classification\n",
    "\n",
    "clf = RandomForestClassifier(n_estimators=300, criterion=\"entropy\", bootstrap=True, n_jobs=-1, random_state=0)\n",
    "clf.fit(X_train, y_train)"
   ]
  },
  {
   "cell_type": "code",
   "execution_count": 119,
   "metadata": {},
   "outputs": [],
   "source": [
    "import _pickle as cPickle\n",
    "# save the classifier\n",
    "with open('my_dumped_classifier.pkl', 'wb') as fid:\n",
    "    cPickle.dump(clf, fid)    \n",
    "\n",
    "# load it again\n",
    "with open('my_dumped_classifier.pkl', 'rb') as fid:\n",
    "    gnb_loaded = cPickle.load(fid)"
   ]
  },
  {
   "cell_type": "code",
   "execution_count": 120,
   "metadata": {},
   "outputs": [],
   "source": [
    "predicted = clf.predict(X_test)"
   ]
  },
  {
   "cell_type": "code",
   "execution_count": 121,
   "metadata": {},
   "outputs": [
    {
     "name": "stdout",
     "output_type": "stream",
     "text": [
      "Accuracy (overall correct predictions): 0.65\n"
     ]
    }
   ],
   "source": [
    "## Accuray e AUC\n",
    "accuracy = metrics.accuracy_score(y_test, predicted)\n",
    "print(\"Accuracy (overall correct predictions):\",  round(accuracy,2))\n",
    "    "
   ]
  },
  {
   "cell_type": "code",
   "execution_count": 122,
   "metadata": {},
   "outputs": [],
   "source": [
    "df_test = pd.read_csv('./data/test_public.csv', sep=';')"
   ]
  },
  {
   "cell_type": "code",
   "execution_count": 123,
   "metadata": {},
   "outputs": [],
   "source": [
    "df_test = df_test.set_index(\"id\")"
   ]
  },
  {
   "cell_type": "code",
   "execution_count": 124,
   "metadata": {},
   "outputs": [
    {
     "name": "stdout",
     "output_type": "stream",
     "text": [
      "    color  color_white\n",
      "id                    \n",
      "0   white            1\n",
      "1   white            1\n",
      "2   white            1\n",
      "3   white            1\n",
      "4   white            1\n"
     ]
    }
   ],
   "source": [
    "dummy_test = pd.get_dummies(df_test[\"color\"], \n",
    "                       prefix=\"color\",drop_first=True)\n",
    "dtf_test= pd.concat([df_test, dummy_test], axis=1)\n",
    "print( dtf_test.filter(like=\"color\", axis=1).head() )"
   ]
  },
  {
   "cell_type": "code",
   "execution_count": 125,
   "metadata": {},
   "outputs": [],
   "source": [
    "dtf_test = dtf_test.drop(\"color\", axis=1)"
   ]
  },
  {
   "cell_type": "code",
   "execution_count": 126,
   "metadata": {},
   "outputs": [
    {
     "data": {
      "text/html": [
       "<div>\n",
       "<style scoped>\n",
       "    .dataframe tbody tr th:only-of-type {\n",
       "        vertical-align: middle;\n",
       "    }\n",
       "\n",
       "    .dataframe tbody tr th {\n",
       "        vertical-align: top;\n",
       "    }\n",
       "\n",
       "    .dataframe thead th {\n",
       "        text-align: right;\n",
       "    }\n",
       "</style>\n",
       "<table border=\"1\" class=\"dataframe\">\n",
       "  <thead>\n",
       "    <tr style=\"text-align: right;\">\n",
       "      <th></th>\n",
       "      <th>fixed acidity</th>\n",
       "      <th>volatile acidity</th>\n",
       "      <th>citric acid</th>\n",
       "      <th>residual sugar</th>\n",
       "      <th>chlorides</th>\n",
       "      <th>free sulfur dioxide</th>\n",
       "      <th>total sulfur dioxide</th>\n",
       "      <th>density</th>\n",
       "      <th>pH</th>\n",
       "      <th>sulphates</th>\n",
       "      <th>alcohol</th>\n",
       "      <th>color_white</th>\n",
       "    </tr>\n",
       "    <tr>\n",
       "      <th>id</th>\n",
       "      <th></th>\n",
       "      <th></th>\n",
       "      <th></th>\n",
       "      <th></th>\n",
       "      <th></th>\n",
       "      <th></th>\n",
       "      <th></th>\n",
       "      <th></th>\n",
       "      <th></th>\n",
       "      <th></th>\n",
       "      <th></th>\n",
       "      <th></th>\n",
       "    </tr>\n",
       "  </thead>\n",
       "  <tbody>\n",
       "    <tr>\n",
       "      <th>0</th>\n",
       "      <td>0.178571</td>\n",
       "      <td>0.095238</td>\n",
       "      <td>0.443038</td>\n",
       "      <td>0.006494</td>\n",
       "      <td>0.093373</td>\n",
       "      <td>0.308943</td>\n",
       "      <td>0.407258</td>\n",
       "      <td>0.168111</td>\n",
       "      <td>0.490566</td>\n",
       "      <td>0.086022</td>\n",
       "      <td>0.483333</td>\n",
       "      <td>1.0</td>\n",
       "    </tr>\n",
       "    <tr>\n",
       "      <th>1</th>\n",
       "      <td>0.258929</td>\n",
       "      <td>0.104762</td>\n",
       "      <td>0.341772</td>\n",
       "      <td>0.425325</td>\n",
       "      <td>0.129518</td>\n",
       "      <td>0.357724</td>\n",
       "      <td>0.596774</td>\n",
       "      <td>0.470104</td>\n",
       "      <td>0.141509</td>\n",
       "      <td>0.150538</td>\n",
       "      <td>0.133333</td>\n",
       "      <td>1.0</td>\n",
       "    </tr>\n",
       "    <tr>\n",
       "      <th>2</th>\n",
       "      <td>0.428571</td>\n",
       "      <td>0.190476</td>\n",
       "      <td>0.582278</td>\n",
       "      <td>0.077922</td>\n",
       "      <td>0.132530</td>\n",
       "      <td>0.308943</td>\n",
       "      <td>0.508065</td>\n",
       "      <td>0.380416</td>\n",
       "      <td>0.330189</td>\n",
       "      <td>0.333333</td>\n",
       "      <td>0.250000</td>\n",
       "      <td>1.0</td>\n",
       "    </tr>\n",
       "    <tr>\n",
       "      <th>3</th>\n",
       "      <td>0.241071</td>\n",
       "      <td>0.009524</td>\n",
       "      <td>0.379747</td>\n",
       "      <td>0.175325</td>\n",
       "      <td>0.054217</td>\n",
       "      <td>0.186992</td>\n",
       "      <td>0.512097</td>\n",
       "      <td>0.250433</td>\n",
       "      <td>0.188679</td>\n",
       "      <td>0.129032</td>\n",
       "      <td>0.483333</td>\n",
       "      <td>1.0</td>\n",
       "    </tr>\n",
       "    <tr>\n",
       "      <th>4</th>\n",
       "      <td>0.214286</td>\n",
       "      <td>0.180952</td>\n",
       "      <td>0.620253</td>\n",
       "      <td>0.012987</td>\n",
       "      <td>0.090361</td>\n",
       "      <td>0.276423</td>\n",
       "      <td>0.479839</td>\n",
       "      <td>0.120451</td>\n",
       "      <td>0.320755</td>\n",
       "      <td>0.225806</td>\n",
       "      <td>0.683333</td>\n",
       "      <td>1.0</td>\n",
       "    </tr>\n",
       "  </tbody>\n",
       "</table>\n",
       "</div>"
      ],
      "text/plain": [
       "    fixed acidity  volatile acidity  citric acid  residual sugar  chlorides  \\\n",
       "id                                                                            \n",
       "0        0.178571          0.095238     0.443038        0.006494   0.093373   \n",
       "1        0.258929          0.104762     0.341772        0.425325   0.129518   \n",
       "2        0.428571          0.190476     0.582278        0.077922   0.132530   \n",
       "3        0.241071          0.009524     0.379747        0.175325   0.054217   \n",
       "4        0.214286          0.180952     0.620253        0.012987   0.090361   \n",
       "\n",
       "    free sulfur dioxide  total sulfur dioxide   density        pH  sulphates  \\\n",
       "id                                                                             \n",
       "0              0.308943              0.407258  0.168111  0.490566   0.086022   \n",
       "1              0.357724              0.596774  0.470104  0.141509   0.150538   \n",
       "2              0.308943              0.508065  0.380416  0.330189   0.333333   \n",
       "3              0.186992              0.512097  0.250433  0.188679   0.129032   \n",
       "4              0.276423              0.479839  0.120451  0.320755   0.225806   \n",
       "\n",
       "     alcohol  color_white  \n",
       "id                         \n",
       "0   0.483333          1.0  \n",
       "1   0.133333          1.0  \n",
       "2   0.250000          1.0  \n",
       "3   0.483333          1.0  \n",
       "4   0.683333          1.0  "
      ]
     },
     "execution_count": 126,
     "metadata": {},
     "output_type": "execute_result"
    }
   ],
   "source": [
    "scaler = preprocessing.MinMaxScaler(feature_range=(0,1))\n",
    "X_test = scaler.fit_transform(dtf_test)\n",
    "dtf_test_scaled= pd.DataFrame(X_test, columns=dtf_test.columns, index=dtf_test.index)\n",
    "dtf_test_scaled.head()"
   ]
  },
  {
   "cell_type": "code",
   "execution_count": 127,
   "metadata": {},
   "outputs": [],
   "source": [
    "X_test = dtf_test_scaled[X_names].values"
   ]
  },
  {
   "cell_type": "code",
   "execution_count": 128,
   "metadata": {
    "scrolled": true
   },
   "outputs": [
    {
     "name": "stdout",
     "output_type": "stream",
     "text": [
      "[6 6 5 6 6 6 5 6 6 6 6 6 6 6 6 6 5 6 6 6 6 6 5 6 6 6 5 6 6 6 6 5 5 6 5 6 7\n",
      " 5 5 6 7 5 5 6 6 7 6 6 6 6 5 6 6 6 6 6 5 6 6 6 6 5 7 5 5 6 5 7 6 6 6 6 6 6\n",
      " 5 6 6 6 6 5 6 6 5 6 6 7 6 6 7 6 6 5 5 5 6 5 6 5 6 5 5 5 6 6 6 6 5 6 6 6 5\n",
      " 5 6 6 5 6 6 6 5 5 6 7 6 6 6 5 6 6 5 6 6 6 5 6 6 5 6 6 6 6 7 6 6 5 6 6 5 5\n",
      " 5 6 5 6 5 6 6 6 6 6 7 6 6 6 5 5 6 6 6 6 6 5 6 7 5 5 5 6 6 6 5 5 6 6 6 6 6\n",
      " 6 5 5 6 5 6 6 6 5 6 6 6 5 6 6 6 6 6 5 6 6 5 6 6 7 6 6 6 5 5 6 5 6 6 5 5 6\n",
      " 5 6 6 5 6 5 6 6 6 6 6 6 5 6 6 6 5 5 5 6 5 6 6 6 5 6 6 5 5 6 5 6 6 6 6 6 6\n",
      " 5 6 5 7 6 5 6 5 7 5 6 5 5 6 6 6 5 7 5 5 5 6 6 5 5 5 6 6 5 5 5 6 6 6 6 6 7\n",
      " 6 7 6 6 6 6 6 5 5 6 6 6 6 6 5 6 6 6 7 6 6 6 6 6 7 6 7 6 6 6 6 6 5 5 5 6 6\n",
      " 6 7 6 6 6 6 5 7 6 6 7 6 6 6 6 6 5 5 5 6 6 5 5 6 6 6 5 6 6 6 6 5 5 5 7 6 6\n",
      " 6 5 6 5 5 6 6 6 6 5 6 6 6 6 6 6 6 6 5 6 6 7 5 6 6 5 7 5 7 7 7 6 5 7 5 6 6\n",
      " 5 6 6 5 6 5 5 5 6 6 6 6 6 6 6 5 5 7 6 5 6 5 6 6 6 5 6 6 5 6 6 6 6 6 6 5 6\n",
      " 6 6 6 6 6 5 6 6 6 6 7 5 5 6 5 6 6 5 6 5 6 6 6 6 5 6 5 6 5 6 6 7 6 6 6 6 6\n",
      " 7 7 6 6 6 5 6 6 6 6 6 6 7 6 6 6 5 5 6 5 6 5 6 6 5 5 6 6 6 6 5 5 6 5 6 6 6\n",
      " 5 6 5 7 6 5 5 6 6 7 6 5 6 6 7 6 6 5 6 5 5 6 7 6 6 4 7 6 6 5 5 6 5 6 6 6 5\n",
      " 5 5 6 5 6 6 6 7 6 6 5 5 6 5 5 7 6 6 5 5 6 5 5 6 5 5 7 6 6 5 6 7 6 6 6 6 6\n",
      " 6 6 6 5 5 6 4 7 6 5 5 6 6 6 6 6 6 5 5 6 6 5 6 5 6 5 6 6 6 6 5 6 5 6 5 6 6\n",
      " 5 6 5 6 6 5 5 6 6 6 6 6 5 6 5 6 5 6 6 6 5 6 6 6 6 7 5 5 6 6 6 6 6 6 7 7 5\n",
      " 6 5 5 5 6 6 6 5 6 5 6 6 5 5 7 6 6 6 6 6 6 6 6 6 6 6 5 5 6 5 6 5 6 6 6 6 6\n",
      " 6 6 6 5 6 6 6 6 5 6 6 6 5 6 7 6 6 6 8 6 6 6 6 6 6 6 6 5 5 5 6 6 5 6 5 5 6\n",
      " 5 6 5 5 6 5 6 5 6 6 5 6 6 5 7 6 6 5 5 6 5 6 5 6 6 6 7 5 6 5 6 5 5 6 5 6 5\n",
      " 6 6 6 6 6 6 5 5 5 6 5 6 6 5 5 6 6 6 6 5 5 6 5 6 5 6 5 6 6 6 6 5 6 5 6 5 7\n",
      " 5 6 6 6 5 6 6 5 6 6 5 6 6 6 5 6 6 5 6 7 6 5 5 5 6 7 5 5 7 7 6 6 6 6 6 6 5\n",
      " 6 7 6 5 6 5 6 6 6 6 5 5 5 6 6 6 5 5 5 6 6 5 7 6 5 6 6 6 6 6 6 5 6 6 6 5 6\n",
      " 6 7 5 6 5 6 5 5 6 6 5 6 5 6 5 5 6 6 6 7 6 6 6 6 7 7 7 7 6 6 6 5 5 7 7 6 5\n",
      " 6 6 6 6 5 6 6 6 5 6 5 5 6 6 6 6 6 5 6 6 7 5 6 5 5 6 5 6 5 6 5 5 5 6 7 6 5\n",
      " 5 6 6 6 6 6 6 6 6 7 7 5 5]\n"
     ]
    }
   ],
   "source": [
    "predicted = clf.predict(X_test)\n",
    "print(predicted)"
   ]
  },
  {
   "cell_type": "code",
   "execution_count": 129,
   "metadata": {},
   "outputs": [],
   "source": [
    "labels = []\n",
    "for id, prediction in enumerate(predicted):\n",
    "    labels.append([id, prediction])"
   ]
  },
  {
   "cell_type": "code",
   "execution_count": 130,
   "metadata": {},
   "outputs": [],
   "source": [
    "import csv\n",
    "fields = ['id', 'quality'] \n",
    "with open('./results.csv', 'w') as f:\n",
    "      \n",
    "    # using csv.writer method from CSV package\n",
    "    write = csv.writer(f)\n",
    "      \n",
    "    write.writerow(fields)\n",
    "    write.writerows(labels)"
   ]
  },
  {
   "cell_type": "code",
   "execution_count": 35,
   "metadata": {
    "id": "d_MnRLuHPhjt"
   },
   "outputs": [
    {
     "ename": "KeyboardInterrupt",
     "evalue": "",
     "output_type": "error",
     "traceback": [
      "\u001b[0;31m---------------------------------------------------------------------------\u001b[0m",
      "\u001b[0;31mKeyboardInterrupt\u001b[0m                         Traceback (most recent call last)",
      "\u001b[0;32m/tmp/ipykernel_808327/1997758147.py\u001b[0m in \u001b[0;36m<module>\u001b[0;34m\u001b[0m\n\u001b[1;32m      9\u001b[0m 'subsample':[0.7,0.75,0.8,0.85,0.9,0.95,1]}       #the fraction of samples to be used for fitting the individual base learners. Values lower than 1 generally lead to a reduction of variance and an increase in bias.\n\u001b[1;32m     10\u001b[0m \u001b[0;31m## random search\u001b[0m\u001b[0;34m\u001b[0m\u001b[0;34m\u001b[0m\u001b[0;34m\u001b[0m\u001b[0m\n\u001b[0;32m---> 11\u001b[0;31m random_search = model_selection.RandomizedSearchCV(model, \n\u001b[0m\u001b[1;32m     12\u001b[0m        \u001b[0mparam_distributions\u001b[0m\u001b[0;34m=\u001b[0m\u001b[0mparam_dic\u001b[0m\u001b[0;34m,\u001b[0m \u001b[0mn_iter\u001b[0m\u001b[0;34m=\u001b[0m\u001b[0;36m1000\u001b[0m\u001b[0;34m,\u001b[0m\u001b[0;34m\u001b[0m\u001b[0;34m\u001b[0m\u001b[0m\n\u001b[1;32m     13\u001b[0m        scoring=\"accuracy\").fit(X_train, y_train)\n",
      "\u001b[0;32m~/Documents/polymtl/inf8215/tp/TP3/venv38/lib/python3.8/site-packages/sklearn/model_selection/_search.py\u001b[0m in \u001b[0;36mfit\u001b[0;34m(self, X, y, groups, **fit_params)\u001b[0m\n\u001b[1;32m    889\u001b[0m                 \u001b[0;32mreturn\u001b[0m \u001b[0mresults\u001b[0m\u001b[0;34m\u001b[0m\u001b[0;34m\u001b[0m\u001b[0m\n\u001b[1;32m    890\u001b[0m \u001b[0;34m\u001b[0m\u001b[0m\n\u001b[0;32m--> 891\u001b[0;31m             \u001b[0mself\u001b[0m\u001b[0;34m.\u001b[0m\u001b[0m_run_search\u001b[0m\u001b[0;34m(\u001b[0m\u001b[0mevaluate_candidates\u001b[0m\u001b[0;34m)\u001b[0m\u001b[0;34m\u001b[0m\u001b[0;34m\u001b[0m\u001b[0m\n\u001b[0m\u001b[1;32m    892\u001b[0m \u001b[0;34m\u001b[0m\u001b[0m\n\u001b[1;32m    893\u001b[0m             \u001b[0;31m# multimetric is determined here because in the case of a callable\u001b[0m\u001b[0;34m\u001b[0m\u001b[0;34m\u001b[0m\u001b[0;34m\u001b[0m\u001b[0m\n",
      "\u001b[0;32m~/Documents/polymtl/inf8215/tp/TP3/venv38/lib/python3.8/site-packages/sklearn/model_selection/_search.py\u001b[0m in \u001b[0;36m_run_search\u001b[0;34m(self, evaluate_candidates)\u001b[0m\n\u001b[1;32m   1764\u001b[0m     \u001b[0;32mdef\u001b[0m \u001b[0m_run_search\u001b[0m\u001b[0;34m(\u001b[0m\u001b[0mself\u001b[0m\u001b[0;34m,\u001b[0m \u001b[0mevaluate_candidates\u001b[0m\u001b[0;34m)\u001b[0m\u001b[0;34m:\u001b[0m\u001b[0;34m\u001b[0m\u001b[0;34m\u001b[0m\u001b[0m\n\u001b[1;32m   1765\u001b[0m         \u001b[0;34m\"\"\"Search n_iter candidates from param_distributions\"\"\"\u001b[0m\u001b[0;34m\u001b[0m\u001b[0;34m\u001b[0m\u001b[0m\n\u001b[0;32m-> 1766\u001b[0;31m         evaluate_candidates(\n\u001b[0m\u001b[1;32m   1767\u001b[0m             ParameterSampler(\n\u001b[1;32m   1768\u001b[0m                 \u001b[0mself\u001b[0m\u001b[0;34m.\u001b[0m\u001b[0mparam_distributions\u001b[0m\u001b[0;34m,\u001b[0m \u001b[0mself\u001b[0m\u001b[0;34m.\u001b[0m\u001b[0mn_iter\u001b[0m\u001b[0;34m,\u001b[0m \u001b[0mrandom_state\u001b[0m\u001b[0;34m=\u001b[0m\u001b[0mself\u001b[0m\u001b[0;34m.\u001b[0m\u001b[0mrandom_state\u001b[0m\u001b[0;34m\u001b[0m\u001b[0;34m\u001b[0m\u001b[0m\n",
      "\u001b[0;32m~/Documents/polymtl/inf8215/tp/TP3/venv38/lib/python3.8/site-packages/sklearn/model_selection/_search.py\u001b[0m in \u001b[0;36mevaluate_candidates\u001b[0;34m(candidate_params, cv, more_results)\u001b[0m\n\u001b[1;32m    836\u001b[0m                     )\n\u001b[1;32m    837\u001b[0m \u001b[0;34m\u001b[0m\u001b[0m\n\u001b[0;32m--> 838\u001b[0;31m                 out = parallel(\n\u001b[0m\u001b[1;32m    839\u001b[0m                     delayed(_fit_and_score)(\n\u001b[1;32m    840\u001b[0m                         \u001b[0mclone\u001b[0m\u001b[0;34m(\u001b[0m\u001b[0mbase_estimator\u001b[0m\u001b[0;34m)\u001b[0m\u001b[0;34m,\u001b[0m\u001b[0;34m\u001b[0m\u001b[0;34m\u001b[0m\u001b[0m\n",
      "\u001b[0;32m~/Documents/polymtl/inf8215/tp/TP3/venv38/lib/python3.8/site-packages/joblib/parallel.py\u001b[0m in \u001b[0;36m__call__\u001b[0;34m(self, iterable)\u001b[0m\n\u001b[1;32m   1044\u001b[0m                 \u001b[0mself\u001b[0m\u001b[0;34m.\u001b[0m\u001b[0m_iterating\u001b[0m \u001b[0;34m=\u001b[0m \u001b[0mself\u001b[0m\u001b[0;34m.\u001b[0m\u001b[0m_original_iterator\u001b[0m \u001b[0;32mis\u001b[0m \u001b[0;32mnot\u001b[0m \u001b[0;32mNone\u001b[0m\u001b[0;34m\u001b[0m\u001b[0;34m\u001b[0m\u001b[0m\n\u001b[1;32m   1045\u001b[0m \u001b[0;34m\u001b[0m\u001b[0m\n\u001b[0;32m-> 1046\u001b[0;31m             \u001b[0;32mwhile\u001b[0m \u001b[0mself\u001b[0m\u001b[0;34m.\u001b[0m\u001b[0mdispatch_one_batch\u001b[0m\u001b[0;34m(\u001b[0m\u001b[0miterator\u001b[0m\u001b[0;34m)\u001b[0m\u001b[0;34m:\u001b[0m\u001b[0;34m\u001b[0m\u001b[0;34m\u001b[0m\u001b[0m\n\u001b[0m\u001b[1;32m   1047\u001b[0m                 \u001b[0;32mpass\u001b[0m\u001b[0;34m\u001b[0m\u001b[0;34m\u001b[0m\u001b[0m\n\u001b[1;32m   1048\u001b[0m \u001b[0;34m\u001b[0m\u001b[0m\n",
      "\u001b[0;32m~/Documents/polymtl/inf8215/tp/TP3/venv38/lib/python3.8/site-packages/joblib/parallel.py\u001b[0m in \u001b[0;36mdispatch_one_batch\u001b[0;34m(self, iterator)\u001b[0m\n\u001b[1;32m    859\u001b[0m                 \u001b[0;32mreturn\u001b[0m \u001b[0;32mFalse\u001b[0m\u001b[0;34m\u001b[0m\u001b[0;34m\u001b[0m\u001b[0m\n\u001b[1;32m    860\u001b[0m             \u001b[0;32melse\u001b[0m\u001b[0;34m:\u001b[0m\u001b[0;34m\u001b[0m\u001b[0;34m\u001b[0m\u001b[0m\n\u001b[0;32m--> 861\u001b[0;31m                 \u001b[0mself\u001b[0m\u001b[0;34m.\u001b[0m\u001b[0m_dispatch\u001b[0m\u001b[0;34m(\u001b[0m\u001b[0mtasks\u001b[0m\u001b[0;34m)\u001b[0m\u001b[0;34m\u001b[0m\u001b[0;34m\u001b[0m\u001b[0m\n\u001b[0m\u001b[1;32m    862\u001b[0m                 \u001b[0;32mreturn\u001b[0m \u001b[0;32mTrue\u001b[0m\u001b[0;34m\u001b[0m\u001b[0;34m\u001b[0m\u001b[0m\n\u001b[1;32m    863\u001b[0m \u001b[0;34m\u001b[0m\u001b[0m\n",
      "\u001b[0;32m~/Documents/polymtl/inf8215/tp/TP3/venv38/lib/python3.8/site-packages/joblib/parallel.py\u001b[0m in \u001b[0;36m_dispatch\u001b[0;34m(self, batch)\u001b[0m\n\u001b[1;32m    777\u001b[0m         \u001b[0;32mwith\u001b[0m \u001b[0mself\u001b[0m\u001b[0;34m.\u001b[0m\u001b[0m_lock\u001b[0m\u001b[0;34m:\u001b[0m\u001b[0;34m\u001b[0m\u001b[0;34m\u001b[0m\u001b[0m\n\u001b[1;32m    778\u001b[0m             \u001b[0mjob_idx\u001b[0m \u001b[0;34m=\u001b[0m \u001b[0mlen\u001b[0m\u001b[0;34m(\u001b[0m\u001b[0mself\u001b[0m\u001b[0;34m.\u001b[0m\u001b[0m_jobs\u001b[0m\u001b[0;34m)\u001b[0m\u001b[0;34m\u001b[0m\u001b[0;34m\u001b[0m\u001b[0m\n\u001b[0;32m--> 779\u001b[0;31m             \u001b[0mjob\u001b[0m \u001b[0;34m=\u001b[0m \u001b[0mself\u001b[0m\u001b[0;34m.\u001b[0m\u001b[0m_backend\u001b[0m\u001b[0;34m.\u001b[0m\u001b[0mapply_async\u001b[0m\u001b[0;34m(\u001b[0m\u001b[0mbatch\u001b[0m\u001b[0;34m,\u001b[0m \u001b[0mcallback\u001b[0m\u001b[0;34m=\u001b[0m\u001b[0mcb\u001b[0m\u001b[0;34m)\u001b[0m\u001b[0;34m\u001b[0m\u001b[0;34m\u001b[0m\u001b[0m\n\u001b[0m\u001b[1;32m    780\u001b[0m             \u001b[0;31m# A job can complete so quickly than its callback is\u001b[0m\u001b[0;34m\u001b[0m\u001b[0;34m\u001b[0m\u001b[0;34m\u001b[0m\u001b[0m\n\u001b[1;32m    781\u001b[0m             \u001b[0;31m# called before we get here, causing self._jobs to\u001b[0m\u001b[0;34m\u001b[0m\u001b[0;34m\u001b[0m\u001b[0;34m\u001b[0m\u001b[0m\n",
      "\u001b[0;32m~/Documents/polymtl/inf8215/tp/TP3/venv38/lib/python3.8/site-packages/joblib/_parallel_backends.py\u001b[0m in \u001b[0;36mapply_async\u001b[0;34m(self, func, callback)\u001b[0m\n\u001b[1;32m    206\u001b[0m     \u001b[0;32mdef\u001b[0m \u001b[0mapply_async\u001b[0m\u001b[0;34m(\u001b[0m\u001b[0mself\u001b[0m\u001b[0;34m,\u001b[0m \u001b[0mfunc\u001b[0m\u001b[0;34m,\u001b[0m \u001b[0mcallback\u001b[0m\u001b[0;34m=\u001b[0m\u001b[0;32mNone\u001b[0m\u001b[0;34m)\u001b[0m\u001b[0;34m:\u001b[0m\u001b[0;34m\u001b[0m\u001b[0;34m\u001b[0m\u001b[0m\n\u001b[1;32m    207\u001b[0m         \u001b[0;34m\"\"\"Schedule a func to be run\"\"\"\u001b[0m\u001b[0;34m\u001b[0m\u001b[0;34m\u001b[0m\u001b[0m\n\u001b[0;32m--> 208\u001b[0;31m         \u001b[0mresult\u001b[0m \u001b[0;34m=\u001b[0m \u001b[0mImmediateResult\u001b[0m\u001b[0;34m(\u001b[0m\u001b[0mfunc\u001b[0m\u001b[0;34m)\u001b[0m\u001b[0;34m\u001b[0m\u001b[0;34m\u001b[0m\u001b[0m\n\u001b[0m\u001b[1;32m    209\u001b[0m         \u001b[0;32mif\u001b[0m \u001b[0mcallback\u001b[0m\u001b[0;34m:\u001b[0m\u001b[0;34m\u001b[0m\u001b[0;34m\u001b[0m\u001b[0m\n\u001b[1;32m    210\u001b[0m             \u001b[0mcallback\u001b[0m\u001b[0;34m(\u001b[0m\u001b[0mresult\u001b[0m\u001b[0;34m)\u001b[0m\u001b[0;34m\u001b[0m\u001b[0;34m\u001b[0m\u001b[0m\n",
      "\u001b[0;32m~/Documents/polymtl/inf8215/tp/TP3/venv38/lib/python3.8/site-packages/joblib/_parallel_backends.py\u001b[0m in \u001b[0;36m__init__\u001b[0;34m(self, batch)\u001b[0m\n\u001b[1;32m    570\u001b[0m         \u001b[0;31m# Don't delay the application, to avoid keeping the input\u001b[0m\u001b[0;34m\u001b[0m\u001b[0;34m\u001b[0m\u001b[0;34m\u001b[0m\u001b[0m\n\u001b[1;32m    571\u001b[0m         \u001b[0;31m# arguments in memory\u001b[0m\u001b[0;34m\u001b[0m\u001b[0;34m\u001b[0m\u001b[0;34m\u001b[0m\u001b[0m\n\u001b[0;32m--> 572\u001b[0;31m         \u001b[0mself\u001b[0m\u001b[0;34m.\u001b[0m\u001b[0mresults\u001b[0m \u001b[0;34m=\u001b[0m \u001b[0mbatch\u001b[0m\u001b[0;34m(\u001b[0m\u001b[0;34m)\u001b[0m\u001b[0;34m\u001b[0m\u001b[0;34m\u001b[0m\u001b[0m\n\u001b[0m\u001b[1;32m    573\u001b[0m \u001b[0;34m\u001b[0m\u001b[0m\n\u001b[1;32m    574\u001b[0m     \u001b[0;32mdef\u001b[0m \u001b[0mget\u001b[0m\u001b[0;34m(\u001b[0m\u001b[0mself\u001b[0m\u001b[0;34m)\u001b[0m\u001b[0;34m:\u001b[0m\u001b[0;34m\u001b[0m\u001b[0;34m\u001b[0m\u001b[0m\n",
      "\u001b[0;32m~/Documents/polymtl/inf8215/tp/TP3/venv38/lib/python3.8/site-packages/joblib/parallel.py\u001b[0m in \u001b[0;36m__call__\u001b[0;34m(self)\u001b[0m\n\u001b[1;32m    260\u001b[0m         \u001b[0;31m# change the default number of processes to -1\u001b[0m\u001b[0;34m\u001b[0m\u001b[0;34m\u001b[0m\u001b[0;34m\u001b[0m\u001b[0m\n\u001b[1;32m    261\u001b[0m         \u001b[0;32mwith\u001b[0m \u001b[0mparallel_backend\u001b[0m\u001b[0;34m(\u001b[0m\u001b[0mself\u001b[0m\u001b[0;34m.\u001b[0m\u001b[0m_backend\u001b[0m\u001b[0;34m,\u001b[0m \u001b[0mn_jobs\u001b[0m\u001b[0;34m=\u001b[0m\u001b[0mself\u001b[0m\u001b[0;34m.\u001b[0m\u001b[0m_n_jobs\u001b[0m\u001b[0;34m)\u001b[0m\u001b[0;34m:\u001b[0m\u001b[0;34m\u001b[0m\u001b[0;34m\u001b[0m\u001b[0m\n\u001b[0;32m--> 262\u001b[0;31m             return [func(*args, **kwargs)\n\u001b[0m\u001b[1;32m    263\u001b[0m                     for func, args, kwargs in self.items]\n\u001b[1;32m    264\u001b[0m \u001b[0;34m\u001b[0m\u001b[0m\n",
      "\u001b[0;32m~/Documents/polymtl/inf8215/tp/TP3/venv38/lib/python3.8/site-packages/joblib/parallel.py\u001b[0m in \u001b[0;36m<listcomp>\u001b[0;34m(.0)\u001b[0m\n\u001b[1;32m    260\u001b[0m         \u001b[0;31m# change the default number of processes to -1\u001b[0m\u001b[0;34m\u001b[0m\u001b[0;34m\u001b[0m\u001b[0;34m\u001b[0m\u001b[0m\n\u001b[1;32m    261\u001b[0m         \u001b[0;32mwith\u001b[0m \u001b[0mparallel_backend\u001b[0m\u001b[0;34m(\u001b[0m\u001b[0mself\u001b[0m\u001b[0;34m.\u001b[0m\u001b[0m_backend\u001b[0m\u001b[0;34m,\u001b[0m \u001b[0mn_jobs\u001b[0m\u001b[0;34m=\u001b[0m\u001b[0mself\u001b[0m\u001b[0;34m.\u001b[0m\u001b[0m_n_jobs\u001b[0m\u001b[0;34m)\u001b[0m\u001b[0;34m:\u001b[0m\u001b[0;34m\u001b[0m\u001b[0;34m\u001b[0m\u001b[0m\n\u001b[0;32m--> 262\u001b[0;31m             return [func(*args, **kwargs)\n\u001b[0m\u001b[1;32m    263\u001b[0m                     for func, args, kwargs in self.items]\n\u001b[1;32m    264\u001b[0m \u001b[0;34m\u001b[0m\u001b[0m\n",
      "\u001b[0;32m~/Documents/polymtl/inf8215/tp/TP3/venv38/lib/python3.8/site-packages/sklearn/utils/fixes.py\u001b[0m in \u001b[0;36m__call__\u001b[0;34m(self, *args, **kwargs)\u001b[0m\n\u001b[1;32m    209\u001b[0m     \u001b[0;32mdef\u001b[0m \u001b[0m__call__\u001b[0m\u001b[0;34m(\u001b[0m\u001b[0mself\u001b[0m\u001b[0;34m,\u001b[0m \u001b[0;34m*\u001b[0m\u001b[0margs\u001b[0m\u001b[0;34m,\u001b[0m \u001b[0;34m**\u001b[0m\u001b[0mkwargs\u001b[0m\u001b[0;34m)\u001b[0m\u001b[0;34m:\u001b[0m\u001b[0;34m\u001b[0m\u001b[0;34m\u001b[0m\u001b[0m\n\u001b[1;32m    210\u001b[0m         \u001b[0;32mwith\u001b[0m \u001b[0mconfig_context\u001b[0m\u001b[0;34m(\u001b[0m\u001b[0;34m**\u001b[0m\u001b[0mself\u001b[0m\u001b[0;34m.\u001b[0m\u001b[0mconfig\u001b[0m\u001b[0;34m)\u001b[0m\u001b[0;34m:\u001b[0m\u001b[0;34m\u001b[0m\u001b[0;34m\u001b[0m\u001b[0m\n\u001b[0;32m--> 211\u001b[0;31m             \u001b[0;32mreturn\u001b[0m \u001b[0mself\u001b[0m\u001b[0;34m.\u001b[0m\u001b[0mfunction\u001b[0m\u001b[0;34m(\u001b[0m\u001b[0;34m*\u001b[0m\u001b[0margs\u001b[0m\u001b[0;34m,\u001b[0m \u001b[0;34m**\u001b[0m\u001b[0mkwargs\u001b[0m\u001b[0;34m)\u001b[0m\u001b[0;34m\u001b[0m\u001b[0;34m\u001b[0m\u001b[0m\n\u001b[0m\u001b[1;32m    212\u001b[0m \u001b[0;34m\u001b[0m\u001b[0m\n\u001b[1;32m    213\u001b[0m \u001b[0;34m\u001b[0m\u001b[0m\n",
      "\u001b[0;32m~/Documents/polymtl/inf8215/tp/TP3/venv38/lib/python3.8/site-packages/sklearn/model_selection/_validation.py\u001b[0m in \u001b[0;36m_fit_and_score\u001b[0;34m(estimator, X, y, scorer, train, test, verbose, parameters, fit_params, return_train_score, return_parameters, return_n_test_samples, return_times, return_estimator, split_progress, candidate_progress, error_score)\u001b[0m\n\u001b[1;32m    679\u001b[0m             \u001b[0mestimator\u001b[0m\u001b[0;34m.\u001b[0m\u001b[0mfit\u001b[0m\u001b[0;34m(\u001b[0m\u001b[0mX_train\u001b[0m\u001b[0;34m,\u001b[0m \u001b[0;34m**\u001b[0m\u001b[0mfit_params\u001b[0m\u001b[0;34m)\u001b[0m\u001b[0;34m\u001b[0m\u001b[0;34m\u001b[0m\u001b[0m\n\u001b[1;32m    680\u001b[0m         \u001b[0;32melse\u001b[0m\u001b[0;34m:\u001b[0m\u001b[0;34m\u001b[0m\u001b[0;34m\u001b[0m\u001b[0m\n\u001b[0;32m--> 681\u001b[0;31m             \u001b[0mestimator\u001b[0m\u001b[0;34m.\u001b[0m\u001b[0mfit\u001b[0m\u001b[0;34m(\u001b[0m\u001b[0mX_train\u001b[0m\u001b[0;34m,\u001b[0m \u001b[0my_train\u001b[0m\u001b[0;34m,\u001b[0m \u001b[0;34m**\u001b[0m\u001b[0mfit_params\u001b[0m\u001b[0;34m)\u001b[0m\u001b[0;34m\u001b[0m\u001b[0;34m\u001b[0m\u001b[0m\n\u001b[0m\u001b[1;32m    682\u001b[0m \u001b[0;34m\u001b[0m\u001b[0m\n\u001b[1;32m    683\u001b[0m     \u001b[0;32mexcept\u001b[0m \u001b[0mException\u001b[0m\u001b[0;34m:\u001b[0m\u001b[0;34m\u001b[0m\u001b[0;34m\u001b[0m\u001b[0m\n",
      "\u001b[0;32m~/Documents/polymtl/inf8215/tp/TP3/venv38/lib/python3.8/site-packages/sklearn/ensemble/_gb.py\u001b[0m in \u001b[0;36mfit\u001b[0;34m(self, X, y, sample_weight, monitor)\u001b[0m\n\u001b[1;32m    584\u001b[0m \u001b[0;34m\u001b[0m\u001b[0m\n\u001b[1;32m    585\u001b[0m         \u001b[0;31m# fit the boosting stages\u001b[0m\u001b[0;34m\u001b[0m\u001b[0;34m\u001b[0m\u001b[0;34m\u001b[0m\u001b[0m\n\u001b[0;32m--> 586\u001b[0;31m         n_stages = self._fit_stages(\n\u001b[0m\u001b[1;32m    587\u001b[0m             \u001b[0mX\u001b[0m\u001b[0;34m,\u001b[0m\u001b[0;34m\u001b[0m\u001b[0;34m\u001b[0m\u001b[0m\n\u001b[1;32m    588\u001b[0m             \u001b[0my\u001b[0m\u001b[0;34m,\u001b[0m\u001b[0;34m\u001b[0m\u001b[0;34m\u001b[0m\u001b[0m\n",
      "\u001b[0;32m~/Documents/polymtl/inf8215/tp/TP3/venv38/lib/python3.8/site-packages/sklearn/ensemble/_gb.py\u001b[0m in \u001b[0;36m_fit_stages\u001b[0;34m(self, X, y, raw_predictions, sample_weight, random_state, X_val, y_val, sample_weight_val, begin_at_stage, monitor)\u001b[0m\n\u001b[1;32m    661\u001b[0m \u001b[0;34m\u001b[0m\u001b[0m\n\u001b[1;32m    662\u001b[0m             \u001b[0;31m# fit next stage of trees\u001b[0m\u001b[0;34m\u001b[0m\u001b[0;34m\u001b[0m\u001b[0;34m\u001b[0m\u001b[0m\n\u001b[0;32m--> 663\u001b[0;31m             raw_predictions = self._fit_stage(\n\u001b[0m\u001b[1;32m    664\u001b[0m                 \u001b[0mi\u001b[0m\u001b[0;34m,\u001b[0m\u001b[0;34m\u001b[0m\u001b[0;34m\u001b[0m\u001b[0m\n\u001b[1;32m    665\u001b[0m                 \u001b[0mX\u001b[0m\u001b[0;34m,\u001b[0m\u001b[0;34m\u001b[0m\u001b[0;34m\u001b[0m\u001b[0m\n",
      "\u001b[0;32m~/Documents/polymtl/inf8215/tp/TP3/venv38/lib/python3.8/site-packages/sklearn/ensemble/_gb.py\u001b[0m in \u001b[0;36m_fit_stage\u001b[0;34m(self, i, X, y, raw_predictions, sample_weight, sample_mask, random_state, X_csc, X_csr)\u001b[0m\n\u001b[1;32m    247\u001b[0m \u001b[0;34m\u001b[0m\u001b[0m\n\u001b[1;32m    248\u001b[0m             \u001b[0;31m# update tree leaves\u001b[0m\u001b[0;34m\u001b[0m\u001b[0;34m\u001b[0m\u001b[0;34m\u001b[0m\u001b[0m\n\u001b[0;32m--> 249\u001b[0;31m             loss.update_terminal_regions(\n\u001b[0m\u001b[1;32m    250\u001b[0m                 \u001b[0mtree\u001b[0m\u001b[0;34m.\u001b[0m\u001b[0mtree_\u001b[0m\u001b[0;34m,\u001b[0m\u001b[0;34m\u001b[0m\u001b[0;34m\u001b[0m\u001b[0m\n\u001b[1;32m    251\u001b[0m                 \u001b[0mX\u001b[0m\u001b[0;34m,\u001b[0m\u001b[0;34m\u001b[0m\u001b[0;34m\u001b[0m\u001b[0m\n",
      "\u001b[0;32m~/Documents/polymtl/inf8215/tp/TP3/venv38/lib/python3.8/site-packages/sklearn/ensemble/_gb_losses.py\u001b[0m in \u001b[0;36mupdate_terminal_regions\u001b[0;34m(self, tree, X, y, residual, raw_predictions, sample_weight, sample_mask, learning_rate, k)\u001b[0m\n\u001b[1;32m    119\u001b[0m         \u001b[0;31m# update each leaf (= perform line search)\u001b[0m\u001b[0;34m\u001b[0m\u001b[0;34m\u001b[0m\u001b[0;34m\u001b[0m\u001b[0m\n\u001b[1;32m    120\u001b[0m         \u001b[0;32mfor\u001b[0m \u001b[0mleaf\u001b[0m \u001b[0;32min\u001b[0m \u001b[0mnp\u001b[0m\u001b[0;34m.\u001b[0m\u001b[0mwhere\u001b[0m\u001b[0;34m(\u001b[0m\u001b[0mtree\u001b[0m\u001b[0;34m.\u001b[0m\u001b[0mchildren_left\u001b[0m \u001b[0;34m==\u001b[0m \u001b[0mTREE_LEAF\u001b[0m\u001b[0;34m)\u001b[0m\u001b[0;34m[\u001b[0m\u001b[0;36m0\u001b[0m\u001b[0;34m]\u001b[0m\u001b[0;34m:\u001b[0m\u001b[0;34m\u001b[0m\u001b[0;34m\u001b[0m\u001b[0m\n\u001b[0;32m--> 121\u001b[0;31m             self._update_terminal_region(\n\u001b[0m\u001b[1;32m    122\u001b[0m                 \u001b[0mtree\u001b[0m\u001b[0;34m,\u001b[0m\u001b[0;34m\u001b[0m\u001b[0;34m\u001b[0m\u001b[0m\n\u001b[1;32m    123\u001b[0m                 \u001b[0mmasked_terminal_regions\u001b[0m\u001b[0;34m,\u001b[0m\u001b[0;34m\u001b[0m\u001b[0;34m\u001b[0m\u001b[0m\n",
      "\u001b[0;32m~/Documents/polymtl/inf8215/tp/TP3/venv38/lib/python3.8/site-packages/sklearn/ensemble/_gb_losses.py\u001b[0m in \u001b[0;36m_update_terminal_region\u001b[0;34m(self, tree, terminal_regions, leaf, X, y, residual, raw_predictions, sample_weight)\u001b[0m\n\u001b[1;32m    839\u001b[0m         \u001b[0mresidual\u001b[0m \u001b[0;34m=\u001b[0m \u001b[0mresidual\u001b[0m\u001b[0;34m.\u001b[0m\u001b[0mtake\u001b[0m\u001b[0;34m(\u001b[0m\u001b[0mterminal_region\u001b[0m\u001b[0;34m,\u001b[0m \u001b[0maxis\u001b[0m\u001b[0;34m=\u001b[0m\u001b[0;36m0\u001b[0m\u001b[0;34m)\u001b[0m\u001b[0;34m\u001b[0m\u001b[0;34m\u001b[0m\u001b[0m\n\u001b[1;32m    840\u001b[0m         \u001b[0my\u001b[0m \u001b[0;34m=\u001b[0m \u001b[0my\u001b[0m\u001b[0;34m.\u001b[0m\u001b[0mtake\u001b[0m\u001b[0;34m(\u001b[0m\u001b[0mterminal_region\u001b[0m\u001b[0;34m,\u001b[0m \u001b[0maxis\u001b[0m\u001b[0;34m=\u001b[0m\u001b[0;36m0\u001b[0m\u001b[0;34m)\u001b[0m\u001b[0;34m\u001b[0m\u001b[0;34m\u001b[0m\u001b[0m\n\u001b[0;32m--> 841\u001b[0;31m         \u001b[0msample_weight\u001b[0m \u001b[0;34m=\u001b[0m \u001b[0msample_weight\u001b[0m\u001b[0;34m.\u001b[0m\u001b[0mtake\u001b[0m\u001b[0;34m(\u001b[0m\u001b[0mterminal_region\u001b[0m\u001b[0;34m,\u001b[0m \u001b[0maxis\u001b[0m\u001b[0;34m=\u001b[0m\u001b[0;36m0\u001b[0m\u001b[0;34m)\u001b[0m\u001b[0;34m\u001b[0m\u001b[0;34m\u001b[0m\u001b[0m\n\u001b[0m\u001b[1;32m    842\u001b[0m \u001b[0;34m\u001b[0m\u001b[0m\n\u001b[1;32m    843\u001b[0m         \u001b[0mnumerator\u001b[0m \u001b[0;34m=\u001b[0m \u001b[0mnp\u001b[0m\u001b[0;34m.\u001b[0m\u001b[0msum\u001b[0m\u001b[0;34m(\u001b[0m\u001b[0msample_weight\u001b[0m \u001b[0;34m*\u001b[0m \u001b[0mresidual\u001b[0m\u001b[0;34m)\u001b[0m\u001b[0;34m\u001b[0m\u001b[0;34m\u001b[0m\u001b[0m\n",
      "\u001b[0;31mKeyboardInterrupt\u001b[0m: "
     ]
    }
   ],
   "source": [
    "## call model\n",
    "model = ensemble.GradientBoostingClassifier()## define hyperparameters combinations to try\n",
    "param_dic = {'learning_rate':[0.15,0.1,0.05,0.01,0.005,0.001],      #weighting factor for the corrections by new trees when added to the model\n",
    "'n_estimators':[100,250,500,750,1000,1250,1500,1750],  #number of trees added to the model\n",
    "'max_depth':[2,3,4,5,6,7],    #maximum depth of the tree\n",
    "'min_samples_split':[2,4,6,8,10,20,40,60,100],    #sets the minimum number of samples to split\n",
    "'min_samples_leaf':[1,3,5,7,9],     #the minimum number of samples to form a leaf\n",
    "'max_features':[2,3,4,5,6,7],     #square root of features is usually a good starting point\n",
    "'subsample':[0.7,0.75,0.8,0.85,0.9,0.95,1]}       #the fraction of samples to be used for fitting the individual base learners. Values lower than 1 generally lead to a reduction of variance and an increase in bias.\n",
    "## random search\n",
    "random_search = model_selection.RandomizedSearchCV(model, \n",
    "       param_distributions=param_dic, n_iter=1000, \n",
    "       scoring=\"accuracy\").fit(X_train, y_train)\n",
    "print(\"Best Model parameters:\", random_search.best_params_)\n",
    "print(\"Best Model mean accuracy:\", random_search.best_score_)\n",
    "model = random_search.best_estimator_"
   ]
  },
  {
   "cell_type": "code",
   "execution_count": 39,
   "metadata": {
    "colab": {
     "base_uri": "https://localhost:8080/"
    },
    "id": "cwEEJLsyaupd",
    "outputId": "94dabad4-c087-4291-9405-a021d0756bbc"
   },
   "outputs": [
    {
     "name": "stdout",
     "output_type": "stream",
     "text": [
      "All dataset columns:\n",
      "['id' 'color' 'fixed acidity' 'volatile acidity' 'citric acid'\n",
      " 'residual sugar' 'chlorides' 'free sulfur dioxide' 'total sulfur dioxide'\n",
      " 'density' 'pH' 'sulphates' 'alcohol' 'quality']\n",
      "Numerical columns:\n",
      "['id' 'fixed acidity' 'volatile acidity' 'citric acid' 'residual sugar'\n",
      " 'chlorides' 'free sulfur dioxide' 'total sulfur dioxide' 'density' 'pH'\n",
      " 'sulphates' 'alcohol' 'quality']\n",
      "Categorical columns:\n",
      "['color']\n"
     ]
    }
   ],
   "source": [
    "# use this for datasets with more columns, to print all columns\n",
    "# (beware, if might raise memory errors when trying to print the text features values!)\n",
    "# np.set_printoptions(threshold=np.inf) \n",
    "\n",
    "# This prints the column labels of the dataframe\n",
    "print('All dataset columns:')\n",
    "print(df.columns.values)\n",
    "\n",
    "# This prints the column labels of the features identified as numerical\n",
    "print('Numerical columns:')\n",
    "print(df.select_dtypes(include=np.number).columns.values)\n",
    "\n",
    "# This prints the column labels of the features identified as numerical\n",
    "print('Categorical columns:')\n",
    "print(df.select_dtypes(include='object').columns.values)"
   ]
  },
  {
   "cell_type": "code",
   "execution_count": 40,
   "metadata": {
    "id": "OOmU7WOeav0I"
   },
   "outputs": [],
   "source": [
    "# Grab model features/inputs and target/output\n",
    "numerical_features = ['fixed acidity', 'volatile acidity', 'citric acid', 'residual sugar',\n",
    " 'chlorides', 'free sulfur dioxide', 'total sulfur dioxide', 'density', 'pH',\n",
    " 'sulphates', 'alcohol']\n",
    "\n",
    "categorical_features = ['color']\n",
    "\n",
    "text_features = []\n",
    "\n",
    "model_features = numerical_features + categorical_features + text_features\n",
    "model_target = 'quality'\n"
   ]
  },
  {
   "cell_type": "code",
   "execution_count": 41,
   "metadata": {
    "colab": {
     "base_uri": "https://localhost:8080/"
    },
    "id": "OqJ7NFL0ax0C",
    "outputId": "11c3a212-70c2-4b22-b94e-7a770fc50c42"
   },
   "outputs": [
    {
     "name": "stdout",
     "output_type": "stream",
     "text": [
      "(3.887, 5.1]      63\n",
      "(5.1, 6.3]       932\n",
      "(6.3, 7.5]      2253\n",
      "(7.5, 8.7]       837\n",
      "(8.7, 9.9]       257\n",
      "(9.9, 11.1]      112\n",
      "(11.1, 12.3]      56\n",
      "(12.3, 13.5]      25\n",
      "(13.5, 14.7]       6\n",
      "(14.7, 15.9]       6\n",
      "Name: fixed acidity, dtype: int64\n",
      "(0.0775, 0.23]    1106\n",
      "(0.23, 0.38]      2165\n",
      "(0.38, 0.53]       625\n",
      "(0.53, 0.68]       430\n",
      "(0.68, 0.83]       158\n",
      "(0.83, 0.98]        45\n",
      "(0.98, 1.13]        13\n",
      "(1.13, 1.28]         2\n",
      "(1.28, 1.43]         2\n",
      "(1.43, 1.58]         1\n",
      "Name: volatile acidity, dtype: int64\n",
      "(-0.00223, 0.123]     432\n",
      "(0.123, 0.246]        706\n",
      "(0.246, 0.369]       2032\n",
      "(0.369, 0.492]        996\n",
      "(0.492, 0.615]        229\n",
      "(0.615, 0.738]         96\n",
      "(0.738, 0.861]         46\n",
      "(0.861, 0.984]          3\n",
      "(0.984, 1.107]          6\n",
      "(1.107, 1.23]           1\n",
      "Name: citric acid, dtype: int64\n",
      "(0.668, 3.79]     2458\n",
      "(3.79, 6.88]       679\n",
      "(6.88, 9.97]       579\n",
      "(9.97, 13.06]      407\n",
      "(13.06, 16.15]     279\n",
      "(16.15, 19.24]     115\n",
      "(19.24, 22.33]      26\n",
      "(22.33, 25.42]       1\n",
      "(25.42, 28.51]       2\n",
      "(28.51, 31.6]        1\n",
      "Name: residual sugar, dtype: int64\n",
      "(0.0073999999999999995, 0.0692]    3518\n",
      "(0.0692, 0.129]                     920\n",
      "(0.129, 0.19]                        63\n",
      "(0.19, 0.25]                         23\n",
      "(0.25, 0.31]                          6\n",
      "(0.31, 0.37]                          5\n",
      "(0.37, 0.43]                          9\n",
      "(0.43, 0.491]                         1\n",
      "(0.491, 0.551]                        0\n",
      "(0.551, 0.611]                        2\n",
      "Name: chlorides, dtype: int64\n",
      "(0.711, 29.8]     2389\n",
      "(29.8, 58.6]      1866\n",
      "(58.6, 87.4]       275\n",
      "(87.4, 116.2]       12\n",
      "(116.2, 145.0]       3\n",
      "(145.0, 173.8]       1\n",
      "(173.8, 202.6]       0\n",
      "(202.6, 231.4]       0\n",
      "(231.4, 260.2]       0\n",
      "(260.2, 289.0]       1\n",
      "Name: free sulfur dioxide, dtype: int64\n",
      "(5.5649999999999995, 49.4]     765\n",
      "(49.4, 92.8]                   702\n",
      "(92.8, 136.2]                 1424\n",
      "(136.2, 179.6]                1038\n",
      "(179.6, 223.0]                 521\n",
      "(223.0, 266.4]                  87\n",
      "(266.4, 309.8]                   7\n",
      "(309.8, 353.2]                   2\n",
      "(353.2, 396.6]                   0\n",
      "(396.6, 440.0]                   1\n",
      "Name: total sulfur dioxide, dtype: int64\n",
      "(0.986, 0.989]     121\n",
      "(0.989, 0.992]     758\n",
      "(0.992, 0.994]    1055\n",
      "(0.994, 0.996]    1159\n",
      "(0.996, 0.999]    1125\n",
      "(0.999, 1.001]     302\n",
      "(1.001, 1.003]      24\n",
      "(1.003, 1.006]       2\n",
      "(1.006, 1.008]       0\n",
      "(1.008, 1.01]        1\n",
      "Name: density, dtype: int64\n",
      "(2.718, 2.849]      14\n",
      "(2.849, 2.978]     230\n",
      "(2.978, 3.107]     847\n",
      "(3.107, 3.236]    1499\n",
      "(3.236, 3.365]    1164\n",
      "(3.365, 3.494]     550\n",
      "(3.494, 3.623]     190\n",
      "(3.623, 3.752]      41\n",
      "(3.752, 3.881]       8\n",
      "(3.881, 4.01]        4\n",
      "Name: pH, dtype: int64\n",
      "(0.227, 0.407]     834\n",
      "(0.407, 0.584]    2429\n",
      "(0.584, 0.761]     991\n",
      "(0.761, 0.938]     218\n",
      "(0.938, 1.115]      51\n",
      "(1.115, 1.292]      11\n",
      "(1.292, 1.469]       5\n",
      "(1.469, 1.646]       4\n",
      "(1.646, 1.823]       0\n",
      "(1.823, 2.0]         4\n",
      "Name: sulphates, dtype: int64\n",
      "(7.992, 8.69]       30\n",
      "(8.69, 9.38]       780\n",
      "(9.38, 10.07]     1182\n",
      "(10.07, 10.76]     809\n",
      "(10.76, 11.45]     747\n",
      "(11.45, 12.14]     440\n",
      "(12.14, 12.83]     406\n",
      "(12.83, 13.52]     126\n",
      "(13.52, 14.21]      26\n",
      "(14.21, 14.9]        1\n",
      "Name: alcohol, dtype: int64\n"
     ]
    }
   ],
   "source": [
    "for i in range(0,len(numerical_features)):\n",
    "    print(df[numerical_features[i]].value_counts(bins=10, sort=False))"
   ]
  },
  {
   "cell_type": "code",
   "execution_count": 42,
   "metadata": {
    "id": "QrWbBp1lazDv"
   },
   "outputs": [],
   "source": [
    "#print(df[df[numerical_features[1]] > 3000000])\n",
    "dropIndexes = df[df[numerical_features[5]] > 145].index\n",
    "df.drop(dropIndexes , inplace=True)"
   ]
  },
  {
   "cell_type": "code",
   "execution_count": 43,
   "metadata": {
    "colab": {
     "base_uri": "https://localhost:8080/"
    },
    "id": "962d6EApa0dY",
    "outputId": "5826db0e-2aed-452b-8e94-368adc78041c"
   },
   "outputs": [
    {
     "data": {
      "text/plain": [
       "(5.661, 39.8]      613\n",
       "(39.8, 73.6]       476\n",
       "(73.6, 107.4]      819\n",
       "(107.4, 141.2]    1110\n",
       "(141.2, 175.0]     827\n",
       "(175.0, 208.8]     491\n",
       "(208.8, 242.6]     177\n",
       "(242.6, 276.4]      26\n",
       "(276.4, 310.2]       4\n",
       "(310.2, 344.0]       2\n",
       "Name: total sulfur dioxide, dtype: int64"
      ]
     },
     "execution_count": 43,
     "metadata": {},
     "output_type": "execute_result"
    }
   ],
   "source": [
    "df[numerical_features[6]].value_counts(bins=10, sort=False)"
   ]
  },
  {
   "cell_type": "code",
   "execution_count": 44,
   "metadata": {
    "colab": {
     "base_uri": "https://localhost:8080/"
    },
    "id": "zQW24e-Na2bw",
    "outputId": "5a4ee632-7fdf-4762-e3e9-af4daa5d8495"
   },
   "outputs": [
    {
     "name": "stdout",
     "output_type": "stream",
     "text": [
      "fixed acidity           0\n",
      "volatile acidity        0\n",
      "citric acid             0\n",
      "residual sugar          0\n",
      "chlorides               0\n",
      "free sulfur dioxide     0\n",
      "total sulfur dioxide    0\n",
      "density                 0\n",
      "pH                      0\n",
      "sulphates               0\n",
      "alcohol                 0\n",
      "dtype: int64\n"
     ]
    }
   ],
   "source": [
    "print(df[numerical_features].isna().sum())"
   ]
  },
  {
   "cell_type": "code",
   "execution_count": 45,
   "metadata": {
    "colab": {
     "base_uri": "https://localhost:8080/"
    },
    "id": "_Wachx3Ra3q-",
    "outputId": "30ecb601-02d7-45ec-e1d2-70253e28349d"
   },
   "outputs": [
    {
     "name": "stdout",
     "output_type": "stream",
     "text": [
      "color\n",
      "['white' 'red']\n"
     ]
    }
   ],
   "source": [
    "for c in categorical_features:\n",
    "    print(c)\n",
    "    print(df[c].unique()) #value_counts())"
   ]
  },
  {
   "cell_type": "code",
   "execution_count": 58,
   "metadata": {
    "colab": {
     "base_uri": "https://localhost:8080/"
    },
    "id": "U4C8vvVOa8Bj",
    "outputId": "4665048d-6b26-4032-d32c-df95c65793ef"
   },
   "outputs": [
    {
     "name": "stdout",
     "output_type": "stream",
     "text": [
      "Train - Validation - Test Datasets shapes:  (4090, 14) (455, 14)\n"
     ]
    }
   ],
   "source": [
    "# Train-Validation split\n",
    "train_data, val_data = train_test_split(df, test_size=0.1, shuffle=True, random_state=23)\n",
    "\n",
    "# Print the shapes of the Train - Test Datasets\n",
    "print('Train - Validation - Test Datasets shapes: ', train_data.shape, val_data.shape)\n"
   ]
  },
  {
   "cell_type": "code",
   "execution_count": 59,
   "metadata": {
    "colab": {
     "base_uri": "https://localhost:8080/"
    },
    "id": "7HWvVRgIa9Px",
    "outputId": "a27cf67a-e0fe-463d-e3c5-01389b4beac5"
   },
   "outputs": [
    {
     "name": "stdout",
     "output_type": "stream",
     "text": [
      "(4090, 14) (455, 14)\n",
      "0\n",
      "0\n",
      "0\n",
      "16\n",
      "144\n",
      "1361\n",
      "1798\n",
      "654\n",
      "115\n",
      "2\n",
      "0\n"
     ]
    }
   ],
   "source": [
    "print(train_data.shape, val_data.shape)\n",
    "\n",
    "print(sum(train_data[model_target] == 0))\n",
    "print(sum(train_data[model_target] == 1))\n",
    "print(sum(train_data[model_target] == 2))\n",
    "print(sum(train_data[model_target] == 3))\n",
    "print(sum(train_data[model_target] == 4))\n",
    "print(sum(train_data[model_target] == 5))\n",
    "print(sum(train_data[model_target] == 6))\n",
    "print(sum(train_data[model_target] == 7))\n",
    "print(sum(train_data[model_target] == 8))\n",
    "print(sum(train_data[model_target] == 9))\n",
    "print(sum(train_data[model_target] == 10))"
   ]
  },
  {
   "cell_type": "code",
   "execution_count": 60,
   "metadata": {
    "id": "SGnEpwF7a9t6"
   },
   "outputs": [],
   "source": [
    "q3 = train_data[train_data[model_target] == 3]\n",
    "q4 = train_data[train_data[model_target] == 4]\n",
    "q5 = train_data[train_data[model_target] == 5]\n",
    "q6 = train_data[train_data[model_target] == 6]\n",
    "q7 = train_data[train_data[model_target] == 7]\n",
    "q8 = train_data[train_data[model_target] == 8]\n",
    "q9 = train_data[train_data[model_target] == 9]\n",
    "\n",
    "train_data = pd.concat([q3, q4, q5, q6, q7, q8, q9])\n",
    "train_data = shuffle(train_data)"
   ]
  },
  {
   "cell_type": "code",
   "execution_count": 61,
   "metadata": {
    "colab": {
     "base_uri": "https://localhost:8080/"
    },
    "id": "Upd1Cbdba-w4",
    "outputId": "ffa352a2-28dd-4bd0-9fcd-f7de939e5a89"
   },
   "outputs": [
    {
     "name": "stdout",
     "output_type": "stream",
     "text": [
      "(4090, 14) (455, 14)\n",
      "0\n",
      "0\n",
      "0\n",
      "16\n",
      "144\n",
      "1361\n",
      "1798\n",
      "654\n",
      "115\n",
      "2\n",
      "0\n"
     ]
    }
   ],
   "source": [
    "print(train_data.shape, val_data.shape)\n",
    "\n",
    "print(sum(train_data[model_target] == 0))\n",
    "print(sum(train_data[model_target] == 1))\n",
    "print(sum(train_data[model_target] == 2))\n",
    "print(sum(train_data[model_target] == 3))\n",
    "print(sum(train_data[model_target] == 4))\n",
    "print(sum(train_data[model_target] == 5))\n",
    "print(sum(train_data[model_target] == 6))\n",
    "print(sum(train_data[model_target] == 7))\n",
    "print(sum(train_data[model_target] == 8))\n",
    "print(sum(train_data[model_target] == 9))\n",
    "print(sum(train_data[model_target] == 10))"
   ]
  },
  {
   "cell_type": "code",
   "execution_count": 62,
   "metadata": {
    "colab": {
     "base_uri": "https://localhost:8080/"
    },
    "id": "gpqL4fUSa_9S",
    "outputId": "84a337e0-66ea-4538-f86e-dc2103a349cb"
   },
   "outputs": [
    {
     "name": "stdout",
     "output_type": "stream",
     "text": [
      "Datasets shapes before processing:  (4090, 12) (455, 12)\n",
      "Datasets shapes after processing:  (4090, 13) (455, 13)\n"
     ]
    }
   ],
   "source": [
    "### COLUMN_TRANSFORMER ###\n",
    "##########################\n",
    "\n",
    "# Preprocess the numerical features\n",
    "numerical_processor = Pipeline([\n",
    "    ('num_imputer', SimpleImputer(strategy='mean')),\n",
    "    ('num_scaler', MinMaxScaler()) # Shown in case is needed, not a must with Decision Trees\n",
    "                                ])\n",
    "                  \n",
    "# Preprocess the categorical features\n",
    "categorical_processor = Pipeline([\n",
    "    ('cat_imputer', SimpleImputer(strategy='constant', fill_value='missing')), # Shown in case is needed, no effect here as we already imputed with 'nan' strings\n",
    "    ('cat_encoder', OneHotEncoder(handle_unknown='ignore')) # handle_unknown tells it to ignore (rather than throw an error for) any value that was not present in the initial training set.\n",
    "                                ])\n",
    "\n",
    "# Combine all data preprocessors from above (add more, if you choose to define more!)\n",
    "# For each processor/step specify: a name, the actual process, and finally the features to be processed\n",
    "data_processor = ColumnTransformer([\n",
    "    ('numerical_processing', numerical_processor, numerical_features),\n",
    "    ('categorical_processing', categorical_processor, categorical_features),\n",
    "                                    ]) \n",
    "\n",
    "# Visualize the data processing pipeline\n",
    "from sklearn import set_config\n",
    "set_config(display='diagram')\n",
    "data_processor\n",
    "\n",
    "### DATA PROCESSING ###\n",
    "#######################\n",
    "\n",
    "# Get train data to train the network\n",
    "X_train = train_data[model_features]\n",
    "y_train = train_data[model_target].values\n",
    "\n",
    "# Get validation data to validate the network \n",
    "X_val = val_data[model_features]\n",
    "y_val = val_data[model_target].values\n",
    "\n",
    "print('Datasets shapes before processing: ', X_train.shape, X_val.shape)\n",
    "\n",
    "X_train = data_processor.fit_transform(X_train)\n",
    "X_val = data_processor.transform(X_val)\n",
    "\n",
    "print('Datasets shapes after processing: ', X_train.shape, X_val.shape)\n"
   ]
  },
  {
   "cell_type": "code",
   "execution_count": 63,
   "metadata": {
    "colab": {
     "base_uri": "https://localhost:8080/",
     "height": 112
    },
    "id": "3kWOOQ-0gQ1g",
    "outputId": "3bb11ef4-4c87-4c41-c2f1-e77c73eacdc8"
   },
   "outputs": [
    {
     "data": {
      "text/html": [
       "<style>div.sk-top-container {color: black;background-color: white;}div.sk-toggleable {background-color: white;}label.sk-toggleable__label {cursor: pointer;display: block;width: 100%;margin-bottom: 0;padding: 0.2em 0.3em;box-sizing: border-box;text-align: center;}div.sk-toggleable__content {max-height: 0;max-width: 0;overflow: hidden;text-align: left;background-color: #f0f8ff;}div.sk-toggleable__content pre {margin: 0.2em;color: black;border-radius: 0.25em;background-color: #f0f8ff;}input.sk-toggleable__control:checked~div.sk-toggleable__content {max-height: 200px;max-width: 100%;overflow: auto;}div.sk-estimator input.sk-toggleable__control:checked~label.sk-toggleable__label {background-color: #d4ebff;}div.sk-label input.sk-toggleable__control:checked~label.sk-toggleable__label {background-color: #d4ebff;}input.sk-hidden--visually {border: 0;clip: rect(1px 1px 1px 1px);clip: rect(1px, 1px, 1px, 1px);height: 1px;margin: -1px;overflow: hidden;padding: 0;position: absolute;width: 1px;}div.sk-estimator {font-family: monospace;background-color: #f0f8ff;margin: 0.25em 0.25em;border: 1px dotted black;border-radius: 0.25em;box-sizing: border-box;}div.sk-estimator:hover {background-color: #d4ebff;}div.sk-parallel-item::after {content: \"\";width: 100%;border-bottom: 1px solid gray;flex-grow: 1;}div.sk-label:hover label.sk-toggleable__label {background-color: #d4ebff;}div.sk-serial::before {content: \"\";position: absolute;border-left: 1px solid gray;box-sizing: border-box;top: 2em;bottom: 0;left: 50%;}div.sk-serial {display: flex;flex-direction: column;align-items: center;background-color: white;}div.sk-item {z-index: 1;}div.sk-parallel {display: flex;align-items: stretch;justify-content: center;background-color: white;}div.sk-parallel-item {display: flex;flex-direction: column;position: relative;background-color: white;}div.sk-parallel-item:first-child::after {align-self: flex-end;width: 50%;}div.sk-parallel-item:last-child::after {align-self: flex-start;width: 50%;}div.sk-parallel-item:only-child::after {width: 0;}div.sk-dashed-wrapped {border: 1px dashed gray;margin: 0.2em;box-sizing: border-box;padding-bottom: 0.1em;background-color: white;position: relative;}div.sk-label label {font-family: monospace;font-weight: bold;background-color: white;display: inline-block;line-height: 1.2em;}div.sk-label-container {position: relative;z-index: 2;text-align: center;}div.sk-container {display: inline-block;position: relative;}</style><div class=\"sk-top-container\"><div class=\"sk-container\"><div class=\"sk-item sk-dashed-wrapped\"><div class=\"sk-label-container\"><div class=\"sk-label sk-toggleable\"><input class=\"sk-toggleable__control sk-hidden--visually\" id=\"21f9d5d2-e365-47b5-98bc-f632fc1202c1\" type=\"checkbox\" ><label class=\"sk-toggleable__label\" for=\"21f9d5d2-e365-47b5-98bc-f632fc1202c1\">Pipeline</label><div class=\"sk-toggleable__content\"><pre>Pipeline(steps=[('standardscaler', StandardScaler()),\n",
       "                ('svc', SVC(C=1.3, gamma=0.65))])</pre></div></div></div><div class=\"sk-serial\"><div class=\"sk-item\"><div class=\"sk-estimator sk-toggleable\"><input class=\"sk-toggleable__control sk-hidden--visually\" id=\"0b0c1883-4cc6-4d37-8d54-7c32e5477e99\" type=\"checkbox\" ><label class=\"sk-toggleable__label\" for=\"0b0c1883-4cc6-4d37-8d54-7c32e5477e99\">StandardScaler</label><div class=\"sk-toggleable__content\"><pre>StandardScaler()</pre></div></div></div><div class=\"sk-item\"><div class=\"sk-estimator sk-toggleable\"><input class=\"sk-toggleable__control sk-hidden--visually\" id=\"0fe79825-101b-4cd6-a7fa-2ebb821cc96b\" type=\"checkbox\" ><label class=\"sk-toggleable__label\" for=\"0fe79825-101b-4cd6-a7fa-2ebb821cc96b\">SVC</label><div class=\"sk-toggleable__content\"><pre>SVC(C=1.3, gamma=0.65)</pre></div></div></div></div></div></div></div>"
      ],
      "text/plain": [
       "Pipeline(steps=[('standardscaler', StandardScaler()),\n",
       "                ('svc', SVC(C=1.3, gamma=0.65))])"
      ]
     },
     "execution_count": 63,
     "metadata": {},
     "output_type": "execute_result"
    }
   ],
   "source": [
    "from sklearn.pipeline import make_pipeline\n",
    "from sklearn.preprocessing import StandardScaler\n",
    "from sklearn import svm\n",
    "\n",
    "parameters = {'kernel': ('linear', 'rbf'), 'C': [1, 10], 'gamma': [0.5, 2]}\n",
    "#clf = make_pipeline(StandardScaler(), GridSearchCV(svm.SVC(), parameters))\n",
    "clf = make_pipeline(StandardScaler(), svm.SVC(C=1.3, kernel=\"rbf\", gamma=0.65))\n",
    "clf.fit(X_train, y_train)"
   ]
  },
  {
   "cell_type": "code",
   "execution_count": 64,
   "metadata": {
    "colab": {
     "base_uri": "https://localhost:8080/"
    },
    "id": "YkqYpd2Ggolc",
    "outputId": "4c8585ae-6995-47d5-e98b-5da582b90c71"
   },
   "outputs": [
    {
     "name": "stdout",
     "output_type": "stream",
     "text": [
      "[0.56043956 0.50549451 0.53846154 0.47252747 0.43956044]\n"
     ]
    }
   ],
   "source": [
    "from sklearn.model_selection import train_test_split, GridSearchCV, cross_val_score\n",
    "scores = cross_val_score(clf, X_val, y_val, cv=5)\n",
    "print(scores)"
   ]
  },
  {
   "cell_type": "code",
   "execution_count": 37,
   "metadata": {
    "id": "TkXsTMccg7LA"
   },
   "outputs": [],
   "source": [
    "df_test = pd.read_csv('./data/test_public.csv', sep=';')"
   ]
  },
  {
   "cell_type": "code",
   "execution_count": 66,
   "metadata": {
    "id": "mlEhhbzehJ9A"
   },
   "outputs": [],
   "source": [
    "# Validation-Test split\n",
    "X_r = train_test_split(df_test, test_size=1, shuffle=False, random_state=23)\n",
    "X_r2 = df_test[model_features]\n",
    "X_r3 = data_processor.transform(X_r2)"
   ]
  },
  {
   "cell_type": "code",
   "execution_count": 67,
   "metadata": {
    "id": "PSC1EQfJjnuo"
   },
   "outputs": [],
   "source": [
    "preds = np.round(clf.predict(X_r3).tolist())\n",
    "labels = []\n",
    "for id, prediction in enumerate(preds):\n",
    "    labels.append([id, prediction])"
   ]
  },
  {
   "cell_type": "code",
   "execution_count": 68,
   "metadata": {
    "colab": {
     "base_uri": "https://localhost:8080/"
    },
    "id": "Wn_wnbkxj4Fb",
    "outputId": "e3f2771f-6984-442e-9343-d8a4a4fe932d"
   },
   "outputs": [
    {
     "name": "stdout",
     "output_type": "stream",
     "text": [
      "[[0, 6], [1, 8], [2, 5], [3, 6], [4, 6], [5, 5], [6, 5], [7, 6], [8, 8], [9, 6], [10, 6], [11, 6], [12, 7], [13, 6], [14, 6], [15, 6], [16, 6], [17, 6], [18, 7], [19, 8], [20, 6], [21, 6], [22, 5], [23, 7], [24, 6], [25, 6], [26, 6], [27, 6], [28, 6], [29, 6], [30, 6], [31, 5], [32, 5], [33, 6], [34, 5], [35, 6], [36, 6], [37, 6], [38, 5], [39, 6], [40, 7], [41, 5], [42, 6], [43, 7], [44, 5], [45, 7], [46, 6], [47, 5], [48, 6], [49, 5], [50, 6], [51, 6], [52, 6], [53, 6], [54, 6], [55, 6], [56, 6], [57, 7], [58, 6], [59, 7], [60, 6], [61, 5], [62, 8], [63, 5], [64, 5], [65, 6], [66, 6], [67, 7], [68, 6], [69, 6], [70, 6], [71, 6], [72, 5], [73, 5], [74, 5], [75, 6], [76, 5], [77, 5], [78, 7], [79, 5], [80, 6], [81, 6], [82, 6], [83, 7], [84, 5], [85, 7], [86, 5], [87, 6], [88, 6], [89, 6], [90, 6], [91, 5], [92, 5], [93, 5], [94, 6], [95, 5], [96, 5], [97, 5], [98, 6], [99, 6], [100, 5], [101, 7], [102, 7], [103, 7], [104, 6], [105, 6], [106, 6], [107, 6], [108, 5], [109, 6], [110, 5], [111, 6], [112, 7], [113, 7], [114, 6], [115, 6], [116, 6], [117, 5], [118, 5], [119, 5], [120, 7], [121, 7], [122, 6], [123, 6], [124, 6], [125, 6], [126, 6], [127, 6], [128, 5], [129, 7], [130, 7], [131, 5], [132, 5], [133, 5], [134, 5], [135, 5], [136, 6], [137, 6], [138, 6], [139, 6], [140, 6], [141, 6], [142, 6], [143, 5], [144, 6], [145, 6], [146, 5], [147, 5], [148, 5], [149, 6], [150, 5], [151, 6], [152, 5], [153, 6], [154, 6], [155, 6], [156, 6], [157, 6], [158, 7], [159, 6], [160, 6], [161, 6], [162, 6], [163, 5], [164, 6], [165, 6], [166, 6], [167, 6], [168, 5], [169, 5], [170, 6], [171, 6], [172, 6], [173, 5], [174, 5], [175, 6], [176, 5], [177, 6], [178, 7], [179, 6], [180, 6], [181, 7], [182, 6], [183, 6], [184, 6], [185, 6], [186, 5], [187, 6], [188, 6], [189, 5], [190, 6], [191, 6], [192, 6], [193, 6], [194, 7], [195, 6], [196, 5], [197, 5], [198, 6], [199, 6], [200, 6], [201, 6], [202, 6], [203, 5], [204, 6], [205, 6], [206, 5], [207, 5], [208, 5], [209, 6], [210, 5], [211, 6], [212, 7], [213, 5], [214, 5], [215, 6], [216, 5], [217, 6], [218, 6], [219, 5], [220, 5], [221, 4], [222, 5], [223, 6], [224, 5], [225, 6], [226, 6], [227, 6], [228, 6], [229, 6], [230, 8], [231, 6], [232, 6], [233, 6], [234, 6], [235, 6], [236, 7], [237, 5], [238, 5], [239, 5], [240, 6], [241, 6], [242, 5], [243, 7], [244, 6], [245, 5], [246, 6], [247, 6], [248, 6], [249, 5], [250, 6], [251, 7], [252, 5], [253, 6], [254, 6], [255, 5], [256, 6], [257, 6], [258, 6], [259, 5], [260, 5], [261, 5], [262, 6], [263, 5], [264, 5], [265, 6], [266, 5], [267, 6], [268, 5], [269, 7], [270, 5], [271, 5], [272, 6], [273, 6], [274, 6], [275, 5], [276, 7], [277, 5], [278, 5], [279, 6], [280, 7], [281, 6], [282, 5], [283, 5], [284, 5], [285, 6], [286, 5], [287, 5], [288, 5], [289, 5], [290, 6], [291, 6], [292, 5], [293, 6], [294, 6], [295, 7], [296, 5], [297, 7], [298, 7], [299, 5], [300, 6], [301, 5], [302, 6], [303, 6], [304, 5], [305, 5], [306, 5], [307, 7], [308, 7], [309, 6], [310, 7], [311, 6], [312, 6], [313, 6], [314, 6], [315, 7], [316, 6], [317, 6], [318, 6], [319, 6], [320, 6], [321, 6], [322, 6], [323, 5], [324, 6], [325, 5], [326, 6], [327, 7], [328, 6], [329, 5], [330, 5], [331, 6], [332, 6], [333, 6], [334, 7], [335, 6], [336, 6], [337, 6], [338, 5], [339, 6], [340, 7], [341, 6], [342, 6], [343, 6], [344, 5], [345, 5], [346, 5], [347, 6], [348, 8], [349, 5], [350, 5], [351, 4], [352, 6], [353, 5], [354, 5], [355, 7], [356, 6], [357, 6], [358, 6], [359, 5], [360, 7], [361, 6], [362, 6], [363, 6], [364, 6], [365, 5], [366, 5], [367, 7], [368, 7], [369, 7], [370, 6], [371, 5], [372, 7], [373, 5], [374, 5], [375, 6], [376, 6], [377, 5], [378, 6], [379, 5], [380, 6], [381, 6], [382, 6], [383, 6], [384, 6], [385, 6], [386, 6], [387, 5], [388, 5], [389, 7], [390, 6], [391, 7], [392, 5], [393, 6], [394, 6], [395, 5], [396, 7], [397, 5], [398, 6], [399, 7], [400, 6], [401, 6], [402, 5], [403, 6], [404, 5], [405, 6], [406, 7], [407, 6], [408, 7], [409, 6], [410, 6], [411, 5], [412, 5], [413, 5], [414, 5], [415, 5], [416, 6], [417, 7], [418, 6], [419, 6], [420, 6], [421, 6], [422, 5], [423, 5], [424, 7], [425, 7], [426, 5], [427, 7], [428, 5], [429, 6], [430, 5], [431, 6], [432, 6], [433, 7], [434, 6], [435, 5], [436, 6], [437, 7], [438, 6], [439, 6], [440, 7], [441, 6], [442, 5], [443, 6], [444, 6], [445, 6], [446, 6], [447, 6], [448, 6], [449, 6], [450, 6], [451, 6], [452, 5], [453, 7], [454, 7], [455, 5], [456, 5], [457, 6], [458, 6], [459, 6], [460, 6], [461, 6], [462, 6], [463, 6], [464, 5], [465, 7], [466, 6], [467, 5], [468, 5], [469, 7], [470, 5], [471, 6], [472, 5], [473, 7], [474, 6], [475, 7], [476, 6], [477, 6], [478, 7], [479, 5], [480, 6], [481, 6], [482, 6], [483, 6], [484, 6], [485, 5], [486, 6], [487, 7], [488, 6], [489, 5], [490, 6], [491, 6], [492, 6], [493, 6], [494, 6], [495, 7], [496, 6], [497, 5], [498, 6], [499, 6], [500, 5], [501, 7], [502, 6], [503, 6], [504, 6], [505, 5], [506, 5], [507, 6], [508, 7], [509, 7], [510, 6], [511, 5], [512, 5], [513, 6], [514, 5], [515, 7], [516, 6], [517, 6], [518, 5], [519, 6], [520, 5], [521, 7], [522, 6], [523, 5], [524, 5], [525, 6], [526, 6], [527, 6], [528, 6], [529, 5], [530, 5], [531, 6], [532, 7], [533, 6], [534, 6], [535, 5], [536, 5], [537, 6], [538, 5], [539, 6], [540, 7], [541, 6], [542, 7], [543, 4], [544, 6], [545, 6], [546, 6], [547, 5], [548, 6], [549, 5], [550, 5], [551, 6], [552, 6], [553, 7], [554, 5], [555, 5], [556, 5], [557, 6], [558, 5], [559, 6], [560, 7], [561, 6], [562, 6], [563, 5], [564, 6], [565, 5], [566, 6], [567, 6], [568, 5], [569, 5], [570, 8], [571, 7], [572, 7], [573, 5], [574, 6], [575, 6], [576, 5], [577, 5], [578, 7], [579, 6], [580, 5], [581, 6], [582, 6], [583, 6], [584, 5], [585, 6], [586, 6], [587, 7], [588, 5], [589, 5], [590, 6], [591, 6], [592, 6], [593, 6], [594, 6], [595, 5], [596, 5], [597, 6], [598, 6], [599, 6], [600, 6], [601, 5], [602, 5], [603, 6], [604, 6], [605, 6], [606, 6], [607, 5], [608, 6], [609, 5], [610, 5], [611, 7], [612, 6], [613, 5], [614, 6], [615, 5], [616, 6], [617, 6], [618, 6], [619, 6], [620, 6], [621, 6], [622, 5], [623, 6], [624, 6], [625, 6], [626, 6], [627, 7], [628, 6], [629, 6], [630, 6], [631, 5], [632, 7], [633, 5], [634, 5], [635, 6], [636, 6], [637, 5], [638, 6], [639, 6], [640, 6], [641, 5], [642, 6], [643, 5], [644, 6], [645, 6], [646, 6], [647, 6], [648, 6], [649, 5], [650, 5], [651, 7], [652, 6], [653, 6], [654, 7], [655, 5], [656, 5], [657, 6], [658, 6], [659, 6], [660, 6], [661, 6], [662, 6], [663, 7], [664, 7], [665, 6], [666, 7], [667, 6], [668, 5], [669, 5], [670, 6], [671, 7], [672, 6], [673, 5], [674, 6], [675, 6], [676, 6], [677, 6], [678, 5], [679, 6], [680, 7], [681, 6], [682, 6], [683, 5], [684, 6], [685, 6], [686, 6], [687, 6], [688, 6], [689, 6], [690, 5], [691, 6], [692, 5], [693, 5], [694, 6], [695, 5], [696, 6], [697, 5], [698, 6], [699, 6], [700, 6], [701, 6], [702, 6], [703, 6], [704, 6], [705, 5], [706, 6], [707, 6], [708, 5], [709, 6], [710, 6], [711, 5], [712, 6], [713, 6], [714, 5], [715, 6], [716, 6], [717, 6], [718, 6], [719, 7], [720, 6], [721, 6], [722, 6], [723, 6], [724, 6], [725, 6], [726, 7], [727, 5], [728, 6], [729, 6], [730, 5], [731, 5], [732, 5], [733, 5], [734, 6], [735, 5], [736, 5], [737, 6], [738, 5], [739, 7], [740, 6], [741, 6], [742, 6], [743, 5], [744, 6], [745, 6], [746, 6], [747, 6], [748, 5], [749, 6], [750, 6], [751, 5], [752, 5], [753, 6], [754, 7], [755, 6], [756, 5], [757, 5], [758, 5], [759, 6], [760, 7], [761, 6], [762, 5], [763, 6], [764, 5], [765, 7], [766, 6], [767, 6], [768, 6], [769, 5], [770, 6], [771, 5], [772, 5], [773, 5], [774, 5], [775, 6], [776, 5], [777, 7], [778, 6], [779, 6], [780, 6], [781, 6], [782, 6], [783, 5], [784, 5], [785, 6], [786, 6], [787, 5], [788, 7], [789, 7], [790, 5], [791, 6], [792, 6], [793, 6], [794, 5], [795, 6], [796, 5], [797, 5], [798, 5], [799, 5], [800, 6], [801, 5], [802, 6], [803, 7], [804, 6], [805, 6], [806, 6], [807, 6], [808, 5], [809, 7], [810, 5], [811, 6], [812, 5], [813, 6], [814, 5], [815, 6], [816, 6], [817, 6], [818, 5], [819, 6], [820, 6], [821, 5], [822, 6], [823, 6], [824, 5], [825, 6], [826, 6], [827, 6], [828, 5], [829, 6], [830, 5], [831, 5], [832, 6], [833, 5], [834, 7], [835, 5], [836, 5], [837, 5], [838, 6], [839, 7], [840, 5], [841, 6], [842, 7], [843, 7], [844, 6], [845, 6], [846, 7], [847, 6], [848, 6], [849, 6], [850, 5], [851, 6], [852, 6], [853, 7], [854, 6], [855, 7], [856, 5], [857, 6], [858, 5], [859, 6], [860, 5], [861, 5], [862, 6], [863, 5], [864, 6], [865, 6], [866, 7], [867, 5], [868, 6], [869, 6], [870, 6], [871, 6], [872, 5], [873, 7], [874, 6], [875, 5], [876, 6], [877, 5], [878, 6], [879, 6], [880, 6], [881, 5], [882, 5], [883, 6], [884, 5], [885, 6], [886, 5], [887, 6], [888, 6], [889, 7], [890, 6], [891, 6], [892, 6], [893, 6], [894, 5], [895, 5], [896, 6], [897, 6], [898, 6], [899, 6], [900, 5], [901, 7], [902, 6], [903, 5], [904, 5], [905, 6], [906, 5], [907, 7], [908, 5], [909, 6], [910, 6], [911, 6], [912, 6], [913, 7], [914, 7], [915, 7], [916, 6], [917, 6], [918, 6], [919, 5], [920, 5], [921, 6], [922, 7], [923, 7], [924, 5], [925, 6], [926, 6], [927, 6], [928, 6], [929, 5], [930, 6], [931, 6], [932, 6], [933, 5], [934, 6], [935, 6], [936, 5], [937, 6], [938, 5], [939, 6], [940, 6], [941, 6], [942, 5], [943, 5], [944, 6], [945, 7], [946, 6], [947, 5], [948, 5], [949, 5], [950, 6], [951, 5], [952, 6], [953, 5], [954, 6], [955, 6], [956, 5], [957, 4], [958, 6], [959, 6], [960, 6], [961, 5], [962, 6], [963, 6], [964, 6], [965, 6], [966, 6], [967, 6], [968, 6], [969, 6], [970, 6], [971, 6], [972, 6], [973, 5], [974, 6]]\n"
     ]
    }
   ],
   "source": [
    "print(labels)"
   ]
  },
  {
   "cell_type": "code",
   "execution_count": 69,
   "metadata": {
    "id": "s-ENcHj6kKrx"
   },
   "outputs": [],
   "source": [
    "import csv\n",
    "fields = ['id', 'quality'] \n",
    "with open('./results.csv', 'w') as f:\n",
    "      \n",
    "    # using csv.writer method from CSV package\n",
    "    write = csv.writer(f)\n",
    "      \n",
    "    write.writerow(fields)\n",
    "    write.writerows(labels)"
   ]
  }
 ],
 "metadata": {
  "colab": {
   "collapsed_sections": [],
   "name": "TP3.ipynb",
   "provenance": []
  },
  "kernelspec": {
   "display_name": "venv38",
   "language": "python",
   "name": "venv38"
  },
  "language_info": {
   "codemirror_mode": {
    "name": "ipython",
    "version": 3
   },
   "file_extension": ".py",
   "mimetype": "text/x-python",
   "name": "python",
   "nbconvert_exporter": "python",
   "pygments_lexer": "ipython3",
   "version": "3.8.12"
  }
 },
 "nbformat": 4,
 "nbformat_minor": 1
}
